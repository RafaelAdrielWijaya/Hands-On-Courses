{
  "cells": [
    {
      "cell_type": "code",
      "execution_count": null,
      "metadata": {
        "id": "rAi0vEfVtNbk"
      },
      "outputs": [],
      "source": [
        "import numpy as np\n",
        "import pandas as pd"
      ]
    },
    {
      "cell_type": "code",
      "execution_count": null,
      "metadata": {
        "id": "xUvpHn4UtNbn",
        "outputId": "d256a449-e347-48b2-8508-95b98ab02b7e"
      },
      "outputs": [
        {
          "data": {
            "text/html": [
              "<div>\n",
              "<style scoped>\n",
              "    .dataframe tbody tr th:only-of-type {\n",
              "        vertical-align: middle;\n",
              "    }\n",
              "\n",
              "    .dataframe tbody tr th {\n",
              "        vertical-align: top;\n",
              "    }\n",
              "\n",
              "    .dataframe thead th {\n",
              "        text-align: right;\n",
              "    }\n",
              "</style>\n",
              "<table border=\"1\" class=\"dataframe\">\n",
              "  <thead>\n",
              "    <tr style=\"text-align: right;\">\n",
              "      <th></th>\n",
              "      <th>Status</th>\n",
              "      <th>Status_code</th>\n",
              "      <th>Gender</th>\n",
              "      <th>Age</th>\n",
              "      <th>Payment Method</th>\n",
              "      <th>LastTransaction</th>\n",
              "    </tr>\n",
              "  </thead>\n",
              "  <tbody>\n",
              "    <tr>\n",
              "      <td>0</td>\n",
              "      <td>Loyal</td>\n",
              "      <td>0</td>\n",
              "      <td>male</td>\n",
              "      <td>64</td>\n",
              "      <td>credit card</td>\n",
              "      <td>98</td>\n",
              "    </tr>\n",
              "    <tr>\n",
              "      <td>1</td>\n",
              "      <td>Churn</td>\n",
              "      <td>1</td>\n",
              "      <td>male</td>\n",
              "      <td>35</td>\n",
              "      <td>cheque</td>\n",
              "      <td>118</td>\n",
              "    </tr>\n",
              "    <tr>\n",
              "      <td>2</td>\n",
              "      <td>Loyal</td>\n",
              "      <td>0</td>\n",
              "      <td>female</td>\n",
              "      <td>25</td>\n",
              "      <td>credit card</td>\n",
              "      <td>107</td>\n",
              "    </tr>\n",
              "    <tr>\n",
              "      <td>3</td>\n",
              "      <td>Loyal</td>\n",
              "      <td>0</td>\n",
              "      <td>female</td>\n",
              "      <td>39</td>\n",
              "      <td>credit card</td>\n",
              "      <td>177</td>\n",
              "    </tr>\n",
              "    <tr>\n",
              "      <td>4</td>\n",
              "      <td>Loyal</td>\n",
              "      <td>0</td>\n",
              "      <td>male</td>\n",
              "      <td>39</td>\n",
              "      <td>credit card</td>\n",
              "      <td>90</td>\n",
              "    </tr>\n",
              "  </tbody>\n",
              "</table>\n",
              "</div>"
            ],
            "text/plain": [
              "  Status  Status_code  Gender  Age Payment Method  LastTransaction\n",
              "0  Loyal            0    male   64    credit card               98\n",
              "1  Churn            1    male   35         cheque              118\n",
              "2  Loyal            0  female   25    credit card              107\n",
              "3  Loyal            0  female   39    credit card              177\n",
              "4  Loyal            0    male   39    credit card               90"
            ]
          },
          "execution_count": 2,
          "metadata": {},
          "output_type": "execute_result"
        }
      ],
      "source": [
        "cust= pd.read_csv('customer.csv',sep=\";\")\n",
        "cust.head()"
      ]
    },
    {
      "cell_type": "code",
      "execution_count": null,
      "metadata": {
        "id": "pZMBhPBmtNbq",
        "outputId": "f07cac8a-414c-4c6c-90b2-6f0fd7f35e80"
      },
      "outputs": [
        {
          "data": {
            "text/html": [
              "<div>\n",
              "<style scoped>\n",
              "    .dataframe tbody tr th:only-of-type {\n",
              "        vertical-align: middle;\n",
              "    }\n",
              "\n",
              "    .dataframe tbody tr th {\n",
              "        vertical-align: top;\n",
              "    }\n",
              "\n",
              "    .dataframe thead th {\n",
              "        text-align: right;\n",
              "    }\n",
              "</style>\n",
              "<table border=\"1\" class=\"dataframe\">\n",
              "  <thead>\n",
              "    <tr style=\"text-align: right;\">\n",
              "      <th></th>\n",
              "      <th>Status</th>\n",
              "      <th>Status_code</th>\n",
              "      <th>Age</th>\n",
              "      <th>LastTransaction</th>\n",
              "      <th>Gender_female</th>\n",
              "      <th>Gender_male</th>\n",
              "      <th>Payment Method_cash</th>\n",
              "      <th>Payment Method_cheque</th>\n",
              "      <th>Payment Method_credit card</th>\n",
              "    </tr>\n",
              "  </thead>\n",
              "  <tbody>\n",
              "    <tr>\n",
              "      <td>0</td>\n",
              "      <td>Loyal</td>\n",
              "      <td>0</td>\n",
              "      <td>64</td>\n",
              "      <td>98</td>\n",
              "      <td>0</td>\n",
              "      <td>1</td>\n",
              "      <td>0</td>\n",
              "      <td>0</td>\n",
              "      <td>1</td>\n",
              "    </tr>\n",
              "    <tr>\n",
              "      <td>1</td>\n",
              "      <td>Churn</td>\n",
              "      <td>1</td>\n",
              "      <td>35</td>\n",
              "      <td>118</td>\n",
              "      <td>0</td>\n",
              "      <td>1</td>\n",
              "      <td>0</td>\n",
              "      <td>1</td>\n",
              "      <td>0</td>\n",
              "    </tr>\n",
              "    <tr>\n",
              "      <td>2</td>\n",
              "      <td>Loyal</td>\n",
              "      <td>0</td>\n",
              "      <td>25</td>\n",
              "      <td>107</td>\n",
              "      <td>1</td>\n",
              "      <td>0</td>\n",
              "      <td>0</td>\n",
              "      <td>0</td>\n",
              "      <td>1</td>\n",
              "    </tr>\n",
              "    <tr>\n",
              "      <td>3</td>\n",
              "      <td>Loyal</td>\n",
              "      <td>0</td>\n",
              "      <td>39</td>\n",
              "      <td>177</td>\n",
              "      <td>1</td>\n",
              "      <td>0</td>\n",
              "      <td>0</td>\n",
              "      <td>0</td>\n",
              "      <td>1</td>\n",
              "    </tr>\n",
              "    <tr>\n",
              "      <td>4</td>\n",
              "      <td>Loyal</td>\n",
              "      <td>0</td>\n",
              "      <td>39</td>\n",
              "      <td>90</td>\n",
              "      <td>0</td>\n",
              "      <td>1</td>\n",
              "      <td>0</td>\n",
              "      <td>0</td>\n",
              "      <td>1</td>\n",
              "    </tr>\n",
              "  </tbody>\n",
              "</table>\n",
              "</div>"
            ],
            "text/plain": [
              "  Status  Status_code  Age  LastTransaction  Gender_female  Gender_male  \\\n",
              "0  Loyal            0   64               98              0            1   \n",
              "1  Churn            1   35              118              0            1   \n",
              "2  Loyal            0   25              107              1            0   \n",
              "3  Loyal            0   39              177              1            0   \n",
              "4  Loyal            0   39               90              0            1   \n",
              "\n",
              "   Payment Method_cash  Payment Method_cheque  Payment Method_credit card  \n",
              "0                    0                      0                           1  \n",
              "1                    0                      1                           0  \n",
              "2                    0                      0                           1  \n",
              "3                    0                      0                           1  \n",
              "4                    0                      0                           1  "
            ]
          },
          "execution_count": 3,
          "metadata": {},
          "output_type": "execute_result"
        }
      ],
      "source": [
        "cust_data = pd.get_dummies(cust, columns = ['Gender', 'Payment Method'])\n",
        "cust_data.head()"
      ]
    },
    {
      "cell_type": "code",
      "execution_count": null,
      "metadata": {
        "id": "G6isRL5btNbr",
        "outputId": "a1ccec78-4ce4-49dd-a789-fa96ad32271a"
      },
      "outputs": [
        {
          "name": "stdout",
          "output_type": "stream",
          "text": [
            "<class 'pandas.core.frame.DataFrame'>\n",
            "RangeIndex: 998 entries, 0 to 997\n",
            "Data columns (total 9 columns):\n",
            "Status                        998 non-null object\n",
            "Status_code                   998 non-null int64\n",
            "Age                           998 non-null int64\n",
            "LastTransaction               998 non-null int64\n",
            "Gender_female                 998 non-null uint8\n",
            "Gender_male                   998 non-null uint8\n",
            "Payment Method_cash           998 non-null uint8\n",
            "Payment Method_cheque         998 non-null uint8\n",
            "Payment Method_credit card    998 non-null uint8\n",
            "dtypes: int64(3), object(1), uint8(5)\n",
            "memory usage: 36.2+ KB\n"
          ]
        }
      ],
      "source": [
        "cust_data.info()"
      ]
    },
    {
      "cell_type": "code",
      "execution_count": null,
      "metadata": {
        "id": "fmb3gR8OtNbs",
        "outputId": "d3844845-ff0c-46a8-ba67-e44c6531ab2d"
      },
      "outputs": [
        {
          "data": {
            "text/html": [
              "<div>\n",
              "<style scoped>\n",
              "    .dataframe tbody tr th:only-of-type {\n",
              "        vertical-align: middle;\n",
              "    }\n",
              "\n",
              "    .dataframe tbody tr th {\n",
              "        vertical-align: top;\n",
              "    }\n",
              "\n",
              "    .dataframe thead th {\n",
              "        text-align: right;\n",
              "    }\n",
              "</style>\n",
              "<table border=\"1\" class=\"dataframe\">\n",
              "  <thead>\n",
              "    <tr style=\"text-align: right;\">\n",
              "      <th></th>\n",
              "      <th>Age</th>\n",
              "      <th>LastTransaction</th>\n",
              "      <th>Gender_female</th>\n",
              "      <th>Gender_male</th>\n",
              "      <th>Payment Method_cash</th>\n",
              "      <th>Payment Method_cheque</th>\n",
              "      <th>Payment Method_credit card</th>\n",
              "    </tr>\n",
              "  </thead>\n",
              "  <tbody>\n",
              "    <tr>\n",
              "      <td>0</td>\n",
              "      <td>64</td>\n",
              "      <td>98</td>\n",
              "      <td>0</td>\n",
              "      <td>1</td>\n",
              "      <td>0</td>\n",
              "      <td>0</td>\n",
              "      <td>1</td>\n",
              "    </tr>\n",
              "    <tr>\n",
              "      <td>1</td>\n",
              "      <td>35</td>\n",
              "      <td>118</td>\n",
              "      <td>0</td>\n",
              "      <td>1</td>\n",
              "      <td>0</td>\n",
              "      <td>1</td>\n",
              "      <td>0</td>\n",
              "    </tr>\n",
              "    <tr>\n",
              "      <td>2</td>\n",
              "      <td>25</td>\n",
              "      <td>107</td>\n",
              "      <td>1</td>\n",
              "      <td>0</td>\n",
              "      <td>0</td>\n",
              "      <td>0</td>\n",
              "      <td>1</td>\n",
              "    </tr>\n",
              "    <tr>\n",
              "      <td>3</td>\n",
              "      <td>39</td>\n",
              "      <td>177</td>\n",
              "      <td>1</td>\n",
              "      <td>0</td>\n",
              "      <td>0</td>\n",
              "      <td>0</td>\n",
              "      <td>1</td>\n",
              "    </tr>\n",
              "    <tr>\n",
              "      <td>4</td>\n",
              "      <td>39</td>\n",
              "      <td>90</td>\n",
              "      <td>0</td>\n",
              "      <td>1</td>\n",
              "      <td>0</td>\n",
              "      <td>0</td>\n",
              "      <td>1</td>\n",
              "    </tr>\n",
              "  </tbody>\n",
              "</table>\n",
              "</div>"
            ],
            "text/plain": [
              "   Age  LastTransaction  Gender_female  Gender_male  Payment Method_cash  \\\n",
              "0   64               98              0            1                    0   \n",
              "1   35              118              0            1                    0   \n",
              "2   25              107              1            0                    0   \n",
              "3   39              177              1            0                    0   \n",
              "4   39               90              0            1                    0   \n",
              "\n",
              "   Payment Method_cheque  Payment Method_credit card  \n",
              "0                      0                           1  \n",
              "1                      1                           0  \n",
              "2                      0                           1  \n",
              "3                      0                           1  \n",
              "4                      0                           1  "
            ]
          },
          "execution_count": 5,
          "metadata": {},
          "output_type": "execute_result"
        }
      ],
      "source": [
        "X = cust_data.iloc[:,2:9]\n",
        "X.head()"
      ]
    },
    {
      "cell_type": "code",
      "execution_count": null,
      "metadata": {
        "id": "NDbTa0i2tNbt",
        "outputId": "d1fe4892-5652-482b-d9c2-4af6fa8cd9ff"
      },
      "outputs": [
        {
          "data": {
            "text/html": [
              "<div>\n",
              "<style scoped>\n",
              "    .dataframe tbody tr th:only-of-type {\n",
              "        vertical-align: middle;\n",
              "    }\n",
              "\n",
              "    .dataframe tbody tr th {\n",
              "        vertical-align: top;\n",
              "    }\n",
              "\n",
              "    .dataframe thead th {\n",
              "        text-align: right;\n",
              "    }\n",
              "</style>\n",
              "<table border=\"1\" class=\"dataframe\">\n",
              "  <thead>\n",
              "    <tr style=\"text-align: right;\">\n",
              "      <th></th>\n",
              "      <th>Status_code</th>\n",
              "    </tr>\n",
              "  </thead>\n",
              "  <tbody>\n",
              "    <tr>\n",
              "      <td>0</td>\n",
              "      <td>0</td>\n",
              "    </tr>\n",
              "    <tr>\n",
              "      <td>1</td>\n",
              "      <td>1</td>\n",
              "    </tr>\n",
              "    <tr>\n",
              "      <td>2</td>\n",
              "      <td>0</td>\n",
              "    </tr>\n",
              "    <tr>\n",
              "      <td>3</td>\n",
              "      <td>0</td>\n",
              "    </tr>\n",
              "    <tr>\n",
              "      <td>4</td>\n",
              "      <td>0</td>\n",
              "    </tr>\n",
              "  </tbody>\n",
              "</table>\n",
              "</div>"
            ],
            "text/plain": [
              "   Status_code\n",
              "0            0\n",
              "1            1\n",
              "2            0\n",
              "3            0\n",
              "4            0"
            ]
          },
          "execution_count": 6,
          "metadata": {},
          "output_type": "execute_result"
        }
      ],
      "source": [
        "Y = cust_data.loc[:,['Status_code']]\n",
        "Y.head()"
      ]
    },
    {
      "cell_type": "code",
      "execution_count": null,
      "metadata": {
        "id": "07witumxtNbt"
      },
      "outputs": [],
      "source": [
        "from sklearn.model_selection import train_test_split\n",
        "X_train, X_test, Y_train, Y_test = train_test_split(X,Y,test_size=0.2,random_state=0)"
      ]
    },
    {
      "cell_type": "code",
      "execution_count": null,
      "metadata": {
        "id": "lATG5YGxtNbu",
        "outputId": "6d6ad01d-25ef-4705-e22e-94b8df3d9db7"
      },
      "outputs": [
        {
          "data": {
            "text/html": [
              "<div>\n",
              "<style scoped>\n",
              "    .dataframe tbody tr th:only-of-type {\n",
              "        vertical-align: middle;\n",
              "    }\n",
              "\n",
              "    .dataframe tbody tr th {\n",
              "        vertical-align: top;\n",
              "    }\n",
              "\n",
              "    .dataframe thead th {\n",
              "        text-align: right;\n",
              "    }\n",
              "</style>\n",
              "<table border=\"1\" class=\"dataframe\">\n",
              "  <thead>\n",
              "    <tr style=\"text-align: right;\">\n",
              "      <th></th>\n",
              "      <th>Age</th>\n",
              "      <th>LastTransaction</th>\n",
              "      <th>Gender_female</th>\n",
              "      <th>Payment Method_cash</th>\n",
              "      <th>Payment Method_cheque</th>\n",
              "    </tr>\n",
              "  </thead>\n",
              "  <tbody>\n",
              "    <tr>\n",
              "      <td>692</td>\n",
              "      <td>20</td>\n",
              "      <td>118</td>\n",
              "      <td>1</td>\n",
              "      <td>0</td>\n",
              "      <td>0</td>\n",
              "    </tr>\n",
              "    <tr>\n",
              "      <td>516</td>\n",
              "      <td>18</td>\n",
              "      <td>90</td>\n",
              "      <td>1</td>\n",
              "      <td>0</td>\n",
              "      <td>0</td>\n",
              "    </tr>\n",
              "    <tr>\n",
              "      <td>880</td>\n",
              "      <td>45</td>\n",
              "      <td>63</td>\n",
              "      <td>0</td>\n",
              "      <td>1</td>\n",
              "      <td>0</td>\n",
              "    </tr>\n",
              "    <tr>\n",
              "      <td>113</td>\n",
              "      <td>40</td>\n",
              "      <td>82</td>\n",
              "      <td>0</td>\n",
              "      <td>0</td>\n",
              "      <td>0</td>\n",
              "    </tr>\n",
              "    <tr>\n",
              "      <td>871</td>\n",
              "      <td>19</td>\n",
              "      <td>72</td>\n",
              "      <td>0</td>\n",
              "      <td>0</td>\n",
              "      <td>0</td>\n",
              "    </tr>\n",
              "  </tbody>\n",
              "</table>\n",
              "</div>"
            ],
            "text/plain": [
              "     Age  LastTransaction  Gender_female  Payment Method_cash  \\\n",
              "692   20              118              1                    0   \n",
              "516   18               90              1                    0   \n",
              "880   45               63              0                    1   \n",
              "113   40               82              0                    0   \n",
              "871   19               72              0                    0   \n",
              "\n",
              "     Payment Method_cheque  \n",
              "692                      0  \n",
              "516                      0  \n",
              "880                      0  \n",
              "113                      0  \n",
              "871                      0  "
            ]
          },
          "execution_count": 8,
          "metadata": {},
          "output_type": "execute_result"
        }
      ],
      "source": [
        "xtr = X_train.iloc[:,[0,1,2,4,5]]\n",
        "xtr.head()"
      ]
    },
    {
      "cell_type": "code",
      "execution_count": null,
      "metadata": {
        "id": "HnjMpfdYtNbv",
        "outputId": "c30d2fc4-b718-4121-ee23-551b6038720b"
      },
      "outputs": [
        {
          "data": {
            "text/html": [
              "<div>\n",
              "<style scoped>\n",
              "    .dataframe tbody tr th:only-of-type {\n",
              "        vertical-align: middle;\n",
              "    }\n",
              "\n",
              "    .dataframe tbody tr th {\n",
              "        vertical-align: top;\n",
              "    }\n",
              "\n",
              "    .dataframe thead th {\n",
              "        text-align: right;\n",
              "    }\n",
              "</style>\n",
              "<table border=\"1\" class=\"dataframe\">\n",
              "  <thead>\n",
              "    <tr style=\"text-align: right;\">\n",
              "      <th></th>\n",
              "      <th>Age</th>\n",
              "      <th>LastTransaction</th>\n",
              "      <th>Gender_female</th>\n",
              "      <th>Gender_male</th>\n",
              "      <th>Payment Method_cash</th>\n",
              "      <th>Payment Method_cheque</th>\n",
              "      <th>Payment Method_credit card</th>\n",
              "    </tr>\n",
              "  </thead>\n",
              "  <tbody>\n",
              "    <tr>\n",
              "      <td>692</td>\n",
              "      <td>20</td>\n",
              "      <td>118</td>\n",
              "      <td>1</td>\n",
              "      <td>0</td>\n",
              "      <td>0</td>\n",
              "      <td>0</td>\n",
              "      <td>1</td>\n",
              "    </tr>\n",
              "    <tr>\n",
              "      <td>516</td>\n",
              "      <td>18</td>\n",
              "      <td>90</td>\n",
              "      <td>1</td>\n",
              "      <td>0</td>\n",
              "      <td>0</td>\n",
              "      <td>0</td>\n",
              "      <td>1</td>\n",
              "    </tr>\n",
              "    <tr>\n",
              "      <td>880</td>\n",
              "      <td>45</td>\n",
              "      <td>63</td>\n",
              "      <td>0</td>\n",
              "      <td>1</td>\n",
              "      <td>1</td>\n",
              "      <td>0</td>\n",
              "      <td>0</td>\n",
              "    </tr>\n",
              "    <tr>\n",
              "      <td>113</td>\n",
              "      <td>40</td>\n",
              "      <td>82</td>\n",
              "      <td>0</td>\n",
              "      <td>1</td>\n",
              "      <td>0</td>\n",
              "      <td>0</td>\n",
              "      <td>1</td>\n",
              "    </tr>\n",
              "    <tr>\n",
              "      <td>871</td>\n",
              "      <td>19</td>\n",
              "      <td>72</td>\n",
              "      <td>0</td>\n",
              "      <td>1</td>\n",
              "      <td>0</td>\n",
              "      <td>0</td>\n",
              "      <td>1</td>\n",
              "    </tr>\n",
              "  </tbody>\n",
              "</table>\n",
              "</div>"
            ],
            "text/plain": [
              "     Age  LastTransaction  Gender_female  Gender_male  Payment Method_cash  \\\n",
              "692   20              118              1            0                    0   \n",
              "516   18               90              1            0                    0   \n",
              "880   45               63              0            1                    1   \n",
              "113   40               82              0            1                    0   \n",
              "871   19               72              0            1                    0   \n",
              "\n",
              "     Payment Method_cheque  Payment Method_credit card  \n",
              "692                      0                           1  \n",
              "516                      0                           1  \n",
              "880                      0                           0  \n",
              "113                      0                           1  \n",
              "871                      0                           1  "
            ]
          },
          "execution_count": 9,
          "metadata": {},
          "output_type": "execute_result"
        }
      ],
      "source": [
        "X_train.head()"
      ]
    },
    {
      "cell_type": "code",
      "execution_count": null,
      "metadata": {
        "id": "nNJo5wI_tNbv"
      },
      "outputs": [],
      "source": []
    },
    {
      "cell_type": "code",
      "execution_count": null,
      "metadata": {
        "id": "BySAhKM_tNbw",
        "outputId": "3549542d-b385-4505-ccb5-75f2e9d63510"
      },
      "outputs": [
        {
          "data": {
            "text/html": [
              "<div>\n",
              "<style scoped>\n",
              "    .dataframe tbody tr th:only-of-type {\n",
              "        vertical-align: middle;\n",
              "    }\n",
              "\n",
              "    .dataframe tbody tr th {\n",
              "        vertical-align: top;\n",
              "    }\n",
              "\n",
              "    .dataframe thead th {\n",
              "        text-align: right;\n",
              "    }\n",
              "</style>\n",
              "<table border=\"1\" class=\"dataframe\">\n",
              "  <thead>\n",
              "    <tr style=\"text-align: right;\">\n",
              "      <th></th>\n",
              "      <th>Age</th>\n",
              "      <th>LastTransaction</th>\n",
              "      <th>Gender_female</th>\n",
              "      <th>Gender_male</th>\n",
              "      <th>Payment Method_cash</th>\n",
              "      <th>Payment Method_cheque</th>\n",
              "      <th>Payment Method_credit card</th>\n",
              "    </tr>\n",
              "  </thead>\n",
              "  <tbody>\n",
              "    <tr>\n",
              "      <td>270</td>\n",
              "      <td>51</td>\n",
              "      <td>142</td>\n",
              "      <td>1</td>\n",
              "      <td>0</td>\n",
              "      <td>0</td>\n",
              "      <td>0</td>\n",
              "      <td>1</td>\n",
              "    </tr>\n",
              "    <tr>\n",
              "      <td>725</td>\n",
              "      <td>56</td>\n",
              "      <td>100</td>\n",
              "      <td>0</td>\n",
              "      <td>1</td>\n",
              "      <td>0</td>\n",
              "      <td>0</td>\n",
              "      <td>1</td>\n",
              "    </tr>\n",
              "    <tr>\n",
              "      <td>31</td>\n",
              "      <td>66</td>\n",
              "      <td>168</td>\n",
              "      <td>0</td>\n",
              "      <td>1</td>\n",
              "      <td>1</td>\n",
              "      <td>0</td>\n",
              "      <td>0</td>\n",
              "    </tr>\n",
              "    <tr>\n",
              "      <td>342</td>\n",
              "      <td>52</td>\n",
              "      <td>161</td>\n",
              "      <td>1</td>\n",
              "      <td>0</td>\n",
              "      <td>0</td>\n",
              "      <td>0</td>\n",
              "      <td>1</td>\n",
              "    </tr>\n",
              "    <tr>\n",
              "      <td>604</td>\n",
              "      <td>41</td>\n",
              "      <td>85</td>\n",
              "      <td>0</td>\n",
              "      <td>1</td>\n",
              "      <td>0</td>\n",
              "      <td>0</td>\n",
              "      <td>1</td>\n",
              "    </tr>\n",
              "    <tr>\n",
              "      <td>...</td>\n",
              "      <td>...</td>\n",
              "      <td>...</td>\n",
              "      <td>...</td>\n",
              "      <td>...</td>\n",
              "      <td>...</td>\n",
              "      <td>...</td>\n",
              "      <td>...</td>\n",
              "    </tr>\n",
              "    <tr>\n",
              "      <td>935</td>\n",
              "      <td>51</td>\n",
              "      <td>54</td>\n",
              "      <td>0</td>\n",
              "      <td>1</td>\n",
              "      <td>0</td>\n",
              "      <td>0</td>\n",
              "      <td>1</td>\n",
              "    </tr>\n",
              "    <tr>\n",
              "      <td>622</td>\n",
              "      <td>63</td>\n",
              "      <td>116</td>\n",
              "      <td>0</td>\n",
              "      <td>1</td>\n",
              "      <td>0</td>\n",
              "      <td>0</td>\n",
              "      <td>1</td>\n",
              "    </tr>\n",
              "    <tr>\n",
              "      <td>255</td>\n",
              "      <td>86</td>\n",
              "      <td>97</td>\n",
              "      <td>1</td>\n",
              "      <td>0</td>\n",
              "      <td>0</td>\n",
              "      <td>0</td>\n",
              "      <td>1</td>\n",
              "    </tr>\n",
              "    <tr>\n",
              "      <td>272</td>\n",
              "      <td>46</td>\n",
              "      <td>50</td>\n",
              "      <td>0</td>\n",
              "      <td>1</td>\n",
              "      <td>0</td>\n",
              "      <td>0</td>\n",
              "      <td>1</td>\n",
              "    </tr>\n",
              "    <tr>\n",
              "      <td>484</td>\n",
              "      <td>77</td>\n",
              "      <td>180</td>\n",
              "      <td>0</td>\n",
              "      <td>1</td>\n",
              "      <td>0</td>\n",
              "      <td>0</td>\n",
              "      <td>1</td>\n",
              "    </tr>\n",
              "  </tbody>\n",
              "</table>\n",
              "<p>200 rows × 7 columns</p>\n",
              "</div>"
            ],
            "text/plain": [
              "     Age  LastTransaction  Gender_female  Gender_male  Payment Method_cash  \\\n",
              "270   51              142              1            0                    0   \n",
              "725   56              100              0            1                    0   \n",
              "31    66              168              0            1                    1   \n",
              "342   52              161              1            0                    0   \n",
              "604   41               85              0            1                    0   \n",
              "..   ...              ...            ...          ...                  ...   \n",
              "935   51               54              0            1                    0   \n",
              "622   63              116              0            1                    0   \n",
              "255   86               97              1            0                    0   \n",
              "272   46               50              0            1                    0   \n",
              "484   77              180              0            1                    0   \n",
              "\n",
              "     Payment Method_cheque  Payment Method_credit card  \n",
              "270                      0                           1  \n",
              "725                      0                           1  \n",
              "31                       0                           0  \n",
              "342                      0                           1  \n",
              "604                      0                           1  \n",
              "..                     ...                         ...  \n",
              "935                      0                           1  \n",
              "622                      0                           1  \n",
              "255                      0                           1  \n",
              "272                      0                           1  \n",
              "484                      0                           1  \n",
              "\n",
              "[200 rows x 7 columns]"
            ]
          },
          "execution_count": 10,
          "metadata": {},
          "output_type": "execute_result"
        }
      ],
      "source": [
        "X_test"
      ]
    },
    {
      "cell_type": "code",
      "execution_count": null,
      "metadata": {
        "id": "G0oN1FXstNbw",
        "outputId": "b4dfc8b2-7b29-4224-95cc-fff54544f770"
      },
      "outputs": [
        {
          "data": {
            "text/plain": [
              "200"
            ]
          },
          "execution_count": 11,
          "metadata": {},
          "output_type": "execute_result"
        }
      ],
      "source": [
        "len(X_test)"
      ]
    },
    {
      "cell_type": "markdown",
      "metadata": {
        "id": "WDwT3gc7tNbx"
      },
      "source": [
        "#### Regresi Logistik"
      ]
    },
    {
      "cell_type": "code",
      "execution_count": null,
      "metadata": {
        "id": "rP5xBE9RtNby"
      },
      "outputs": [],
      "source": [
        "import statsmodels.api as sm\n",
        "import statsmodels.formula.api as smf"
      ]
    },
    {
      "cell_type": "code",
      "execution_count": null,
      "metadata": {
        "id": "Od0gQvFhtNbz",
        "outputId": "89f13eee-435e-4412-ea2d-c3883dd36d78"
      },
      "outputs": [
        {
          "name": "stdout",
          "output_type": "stream",
          "text": [
            "Optimization terminated successfully.\n",
            "         Current function value: 0.554329\n",
            "         Iterations 6\n"
          ]
        }
      ],
      "source": [
        "reglog = sm.Logit(Y_train,xtr).fit()"
      ]
    },
    {
      "cell_type": "code",
      "execution_count": null,
      "metadata": {
        "id": "LG2iJCoXtNbz",
        "outputId": "bff6995b-5611-4dde-8f3d-f20364d15554"
      },
      "outputs": [
        {
          "name": "stdout",
          "output_type": "stream",
          "text": [
            "                           Logit Regression Results                           \n",
            "==============================================================================\n",
            "Dep. Variable:            Status_code   No. Observations:                  798\n",
            "Model:                          Logit   Df Residuals:                      793\n",
            "Method:                           MLE   Df Model:                            4\n",
            "Date:                Tue, 02 Apr 2024   Pseudo R-squ.:                  0.1125\n",
            "Time:                        15:33:52   Log-Likelihood:                -442.35\n",
            "converged:                       True   LL-Null:                       -498.45\n",
            "Covariance Type:            nonrobust   LLR p-value:                 2.488e-23\n",
            "=========================================================================================\n",
            "                            coef    std err          z      P>|z|      [0.025      0.975]\n",
            "-----------------------------------------------------------------------------------------\n",
            "Age                      -0.0196      0.004     -4.895      0.000      -0.027      -0.012\n",
            "LastTransaction          -0.0074      0.002     -4.146      0.000      -0.011      -0.004\n",
            "Gender_female             2.0422      0.181     11.312      0.000       1.688       2.396\n",
            "Payment Method_cash       0.5574      0.189      2.949      0.003       0.187       0.928\n",
            "Payment Method_cheque     0.5367      0.339      1.582      0.114      -0.128       1.202\n",
            "=========================================================================================\n"
          ]
        }
      ],
      "source": [
        "print(reglog.summary())"
      ]
    },
    {
      "cell_type": "code",
      "execution_count": null,
      "metadata": {
        "id": "SnT_0FhntNbz",
        "outputId": "19a770d6-a1f2-4f9f-dc16-46c52db6eff7"
      },
      "outputs": [
        {
          "data": {
            "text/plain": [
              "835    0.076119\n",
              "192    0.750756\n",
              "629    0.585515\n",
              "559    0.846433\n",
              "684    0.093819\n",
              "dtype: float64"
            ]
          },
          "execution_count": 15,
          "metadata": {},
          "output_type": "execute_result"
        }
      ],
      "source": [
        "yhat= reglog.predict(xtr)\n",
        "yhat.tail()"
      ]
    },
    {
      "cell_type": "code",
      "execution_count": null,
      "metadata": {
        "id": "_GjOzJdTtNb0",
        "outputId": "3258d188-1362-42a8-8a08-9cf342f24edc"
      },
      "outputs": [
        {
          "data": {
            "text/plain": [
              "835    0\n",
              "192    1\n",
              "629    1\n",
              "559    1\n",
              "684    0\n",
              "dtype: int32"
            ]
          },
          "execution_count": 16,
          "metadata": {},
          "output_type": "execute_result"
        }
      ],
      "source": [
        "yhat_code = (yhat >= 0.5).astype(int)\n",
        "yhat_code.tail()"
      ]
    },
    {
      "cell_type": "code",
      "execution_count": null,
      "metadata": {
        "id": "VvaZj5wdtNb0",
        "outputId": "64738579-7644-4ebb-bbe7-a76e084e9197"
      },
      "outputs": [
        {
          "data": {
            "text/html": [
              "<div>\n",
              "<style scoped>\n",
              "    .dataframe tbody tr th:only-of-type {\n",
              "        vertical-align: middle;\n",
              "    }\n",
              "\n",
              "    .dataframe tbody tr th {\n",
              "        vertical-align: top;\n",
              "    }\n",
              "\n",
              "    .dataframe thead th {\n",
              "        text-align: right;\n",
              "    }\n",
              "</style>\n",
              "<table border=\"1\" class=\"dataframe\">\n",
              "  <thead>\n",
              "    <tr style=\"text-align: right;\">\n",
              "      <th></th>\n",
              "      <th>Age</th>\n",
              "      <th>LastTransaction</th>\n",
              "      <th>Gender_female</th>\n",
              "      <th>Payment Method_cash</th>\n",
              "      <th>Payment Method_credit card</th>\n",
              "    </tr>\n",
              "  </thead>\n",
              "  <tbody>\n",
              "    <tr>\n",
              "      <td>692</td>\n",
              "      <td>20</td>\n",
              "      <td>118</td>\n",
              "      <td>1</td>\n",
              "      <td>0</td>\n",
              "      <td>1</td>\n",
              "    </tr>\n",
              "    <tr>\n",
              "      <td>516</td>\n",
              "      <td>18</td>\n",
              "      <td>90</td>\n",
              "      <td>1</td>\n",
              "      <td>0</td>\n",
              "      <td>1</td>\n",
              "    </tr>\n",
              "    <tr>\n",
              "      <td>880</td>\n",
              "      <td>45</td>\n",
              "      <td>63</td>\n",
              "      <td>0</td>\n",
              "      <td>1</td>\n",
              "      <td>0</td>\n",
              "    </tr>\n",
              "    <tr>\n",
              "      <td>113</td>\n",
              "      <td>40</td>\n",
              "      <td>82</td>\n",
              "      <td>0</td>\n",
              "      <td>0</td>\n",
              "      <td>1</td>\n",
              "    </tr>\n",
              "    <tr>\n",
              "      <td>871</td>\n",
              "      <td>19</td>\n",
              "      <td>72</td>\n",
              "      <td>0</td>\n",
              "      <td>0</td>\n",
              "      <td>1</td>\n",
              "    </tr>\n",
              "  </tbody>\n",
              "</table>\n",
              "</div>"
            ],
            "text/plain": [
              "     Age  LastTransaction  Gender_female  Payment Method_cash  \\\n",
              "692   20              118              1                    0   \n",
              "516   18               90              1                    0   \n",
              "880   45               63              0                    1   \n",
              "113   40               82              0                    0   \n",
              "871   19               72              0                    0   \n",
              "\n",
              "     Payment Method_credit card  \n",
              "692                           1  \n",
              "516                           1  \n",
              "880                           0  \n",
              "113                           1  \n",
              "871                           1  "
            ]
          },
          "execution_count": 17,
          "metadata": {},
          "output_type": "execute_result"
        }
      ],
      "source": [
        "xtr1 = X_train.iloc[:,[0,1,2,4,6]]\n",
        "xtr1.head()"
      ]
    },
    {
      "cell_type": "code",
      "execution_count": null,
      "metadata": {
        "id": "3zRzOBCLtNb0",
        "outputId": "84c197bd-81d2-45b4-a1e5-99e56a67f2c6"
      },
      "outputs": [
        {
          "name": "stdout",
          "output_type": "stream",
          "text": [
            "Optimization terminated successfully.\n",
            "         Current function value: 0.472388\n",
            "         Iterations 6\n"
          ]
        }
      ],
      "source": [
        "reglog1 = sm.Logit(Y_train,xtr1).fit()"
      ]
    },
    {
      "cell_type": "code",
      "execution_count": null,
      "metadata": {
        "id": "7IqAw5g0tNb1",
        "outputId": "ba4cd47a-f2e1-4ec6-fa2a-4c3cb83a56da"
      },
      "outputs": [
        {
          "name": "stdout",
          "output_type": "stream",
          "text": [
            "                           Logit Regression Results                           \n",
            "==============================================================================\n",
            "Dep. Variable:            Status_code   No. Observations:                  798\n",
            "Model:                          Logit   Df Residuals:                      793\n",
            "Method:                           MLE   Df Model:                            4\n",
            "Date:                Tue, 02 Apr 2024   Pseudo R-squ.:                  0.2437\n",
            "Time:                        15:33:53   Log-Likelihood:                -376.97\n",
            "converged:                       True   LL-Null:                       -498.45\n",
            "Covariance Type:            nonrobust   LLR p-value:                 2.135e-51\n",
            "==============================================================================================\n",
            "                                 coef    std err          z      P>|z|      [0.025      0.975]\n",
            "----------------------------------------------------------------------------------------------\n",
            "Age                            0.0043      0.005      0.889      0.374      -0.005       0.014\n",
            "LastTransaction               -0.0001      0.002     -0.074      0.941      -0.004       0.004\n",
            "Gender_female                  2.5453      0.205     12.402      0.000       2.143       2.948\n",
            "Payment Method_cash           -1.7328      0.293     -5.909      0.000      -2.308      -1.158\n",
            "Payment Method_credit card    -2.6968      0.264    -10.209      0.000      -3.215      -2.179\n",
            "==============================================================================================\n"
          ]
        }
      ],
      "source": [
        "print(reglog1.summary())"
      ]
    },
    {
      "cell_type": "code",
      "execution_count": null,
      "metadata": {
        "id": "hStlerZotNb2",
        "outputId": "31e01a52-5962-4261-84a7-24bfceccdf69"
      },
      "outputs": [
        {
          "data": {
            "text/plain": [
              "835    0.086992\n",
              "192    0.477263\n",
              "629    0.539649\n",
              "559    0.706523\n",
              "684    0.084072\n",
              "dtype: float64"
            ]
          },
          "execution_count": 20,
          "metadata": {},
          "output_type": "execute_result"
        }
      ],
      "source": [
        "yhat1= reglog1.predict(xtr1)\n",
        "yhat1.tail()"
      ]
    },
    {
      "cell_type": "code",
      "execution_count": null,
      "metadata": {
        "id": "Lz-s3xzPtNb2",
        "outputId": "a3637996-7e46-4fca-edd1-12d92cbbff2a"
      },
      "outputs": [
        {
          "data": {
            "text/plain": [
              "835    0\n",
              "192    0\n",
              "629    1\n",
              "559    1\n",
              "684    0\n",
              "dtype: int32"
            ]
          },
          "execution_count": 21,
          "metadata": {},
          "output_type": "execute_result"
        }
      ],
      "source": [
        "yhat1_code = (yhat1 >= 0.5).astype(int)\n",
        "yhat1_code.tail()"
      ]
    },
    {
      "cell_type": "code",
      "execution_count": null,
      "metadata": {
        "id": "t0A1_YBNtNb3"
      },
      "outputs": [],
      "source": [
        "from sklearn.metrics import classification_report"
      ]
    },
    {
      "cell_type": "code",
      "execution_count": null,
      "metadata": {
        "id": "tLQqscHltNb3",
        "outputId": "062c6148-9e0a-4403-bb50-e436db8f6679"
      },
      "outputs": [
        {
          "name": "stdout",
          "output_type": "stream",
          "text": [
            "              precision    recall  f1-score   support\n",
            "\n",
            "           0       0.85      0.83      0.84       545\n",
            "           1       0.64      0.68      0.66       253\n",
            "\n",
            "    accuracy                           0.78       798\n",
            "   macro avg       0.74      0.75      0.75       798\n",
            "weighted avg       0.78      0.78      0.78       798\n",
            "\n"
          ]
        }
      ],
      "source": [
        "print(classification_report(Y_train, yhat1_code))"
      ]
    },
    {
      "cell_type": "code",
      "execution_count": null,
      "metadata": {
        "id": "U24L0l_BtNb3",
        "outputId": "a442ddb0-43b4-42b2-92ab-0276783e6828"
      },
      "outputs": [
        {
          "data": {
            "text/html": [
              "<div>\n",
              "<style scoped>\n",
              "    .dataframe tbody tr th:only-of-type {\n",
              "        vertical-align: middle;\n",
              "    }\n",
              "\n",
              "    .dataframe tbody tr th {\n",
              "        vertical-align: top;\n",
              "    }\n",
              "\n",
              "    .dataframe thead th {\n",
              "        text-align: right;\n",
              "    }\n",
              "</style>\n",
              "<table border=\"1\" class=\"dataframe\">\n",
              "  <thead>\n",
              "    <tr style=\"text-align: right;\">\n",
              "      <th></th>\n",
              "      <th>Age</th>\n",
              "      <th>LastTransaction</th>\n",
              "      <th>Gender_female</th>\n",
              "      <th>Payment Method_cash</th>\n",
              "      <th>Payment Method_credit card</th>\n",
              "    </tr>\n",
              "  </thead>\n",
              "  <tbody>\n",
              "    <tr>\n",
              "      <td>270</td>\n",
              "      <td>51</td>\n",
              "      <td>142</td>\n",
              "      <td>1</td>\n",
              "      <td>0</td>\n",
              "      <td>1</td>\n",
              "    </tr>\n",
              "    <tr>\n",
              "      <td>725</td>\n",
              "      <td>56</td>\n",
              "      <td>100</td>\n",
              "      <td>0</td>\n",
              "      <td>0</td>\n",
              "      <td>1</td>\n",
              "    </tr>\n",
              "    <tr>\n",
              "      <td>31</td>\n",
              "      <td>66</td>\n",
              "      <td>168</td>\n",
              "      <td>0</td>\n",
              "      <td>1</td>\n",
              "      <td>0</td>\n",
              "    </tr>\n",
              "    <tr>\n",
              "      <td>342</td>\n",
              "      <td>52</td>\n",
              "      <td>161</td>\n",
              "      <td>1</td>\n",
              "      <td>0</td>\n",
              "      <td>1</td>\n",
              "    </tr>\n",
              "    <tr>\n",
              "      <td>604</td>\n",
              "      <td>41</td>\n",
              "      <td>85</td>\n",
              "      <td>0</td>\n",
              "      <td>0</td>\n",
              "      <td>1</td>\n",
              "    </tr>\n",
              "  </tbody>\n",
              "</table>\n",
              "</div>"
            ],
            "text/plain": [
              "     Age  LastTransaction  Gender_female  Payment Method_cash  \\\n",
              "270   51              142              1                    0   \n",
              "725   56              100              0                    0   \n",
              "31    66              168              0                    1   \n",
              "342   52              161              1                    0   \n",
              "604   41               85              0                    0   \n",
              "\n",
              "     Payment Method_credit card  \n",
              "270                           1  \n",
              "725                           1  \n",
              "31                            0  \n",
              "342                           1  \n",
              "604                           1  "
            ]
          },
          "execution_count": 24,
          "metadata": {},
          "output_type": "execute_result"
        }
      ],
      "source": [
        "xtest = X_test.iloc[:,[0,1,2,4,6]]\n",
        "xtest.head()"
      ]
    },
    {
      "cell_type": "code",
      "execution_count": null,
      "metadata": {
        "id": "iVeGaEY6tNb4",
        "outputId": "6c57b470-0e4d-459e-d24e-186b07fd8ea6"
      },
      "outputs": [
        {
          "name": "stdout",
          "output_type": "stream",
          "text": [
            "Optimization terminated successfully.\n",
            "         Current function value: 0.473297\n",
            "         Iterations 6\n"
          ]
        }
      ],
      "source": [
        "reglog_test = sm.Logit(Y_test,xtest).fit()"
      ]
    },
    {
      "cell_type": "code",
      "execution_count": null,
      "metadata": {
        "id": "hPYd6nqftNb4",
        "outputId": "38399f5c-8c15-4ae5-a509-62c0a6a2b967"
      },
      "outputs": [
        {
          "name": "stdout",
          "output_type": "stream",
          "text": [
            "                           Logit Regression Results                           \n",
            "==============================================================================\n",
            "Dep. Variable:            Status_code   No. Observations:                  200\n",
            "Model:                          Logit   Df Residuals:                      195\n",
            "Method:                           MLE   Df Model:                            4\n",
            "Date:                Tue, 02 Apr 2024   Pseudo R-squ.:                  0.2690\n",
            "Time:                        15:33:55   Log-Likelihood:                -94.659\n",
            "converged:                       True   LL-Null:                       -129.49\n",
            "Covariance Type:            nonrobust   LLR p-value:                 2.678e-14\n",
            "==============================================================================================\n",
            "                                 coef    std err          z      P>|z|      [0.025      0.975]\n",
            "----------------------------------------------------------------------------------------------\n",
            "Age                            0.0222      0.010      2.256      0.024       0.003       0.041\n",
            "LastTransaction               -0.0048      0.004     -1.219      0.223      -0.012       0.003\n",
            "Gender_female                  2.6721      0.422      6.337      0.000       1.846       3.499\n",
            "Payment Method_cash           -2.0699      0.596     -3.475      0.001      -3.237      -0.902\n",
            "Payment Method_credit card    -3.1433      0.539     -5.834      0.000      -4.199      -2.087\n",
            "==============================================================================================\n"
          ]
        }
      ],
      "source": [
        "print(reglog_test.summary())"
      ]
    },
    {
      "cell_type": "code",
      "execution_count": null,
      "metadata": {
        "id": "KTiubGbRtNb4",
        "outputId": "6c2669ea-b449-4612-fb43-6b9a2675188e"
      },
      "outputs": [
        {
          "data": {
            "text/plain": [
              "935    0.093638\n",
              "622    0.091214\n",
              "255    0.725762\n",
              "272    0.086135\n",
              "484    0.091704\n",
              "dtype: float64"
            ]
          },
          "execution_count": 27,
          "metadata": {},
          "output_type": "execute_result"
        }
      ],
      "source": [
        "yhat_test= reglog_test.predict(xtest)\n",
        "yhat_test.tail()"
      ]
    },
    {
      "cell_type": "code",
      "execution_count": null,
      "metadata": {
        "id": "9ejVCzVKtNb5",
        "outputId": "1686717f-3dd8-43bf-d8dc-0c0c1e3e7e85"
      },
      "outputs": [
        {
          "data": {
            "text/plain": [
              "935    0\n",
              "622    0\n",
              "255    1\n",
              "272    0\n",
              "484    0\n",
              "dtype: int32"
            ]
          },
          "execution_count": 28,
          "metadata": {},
          "output_type": "execute_result"
        }
      ],
      "source": [
        "yhat_test_code = (yhat_test >= 0.5).astype(int)\n",
        "yhat_test_code.tail()"
      ]
    },
    {
      "cell_type": "code",
      "execution_count": null,
      "metadata": {
        "id": "Qm81aT4ZtNb5",
        "outputId": "2c2abcdb-6adf-4f79-ff2a-1c5e9e69683d"
      },
      "outputs": [
        {
          "name": "stdout",
          "output_type": "stream",
          "text": [
            "              precision    recall  f1-score   support\n",
            "\n",
            "           0       0.83      0.88      0.85       130\n",
            "           1       0.75      0.67      0.71        70\n",
            "\n",
            "    accuracy                           0.81       200\n",
            "   macro avg       0.79      0.77      0.78       200\n",
            "weighted avg       0.80      0.81      0.80       200\n",
            "\n"
          ]
        }
      ],
      "source": [
        "print(classification_report(Y_test, yhat_test_code))"
      ]
    },
    {
      "cell_type": "markdown",
      "metadata": {
        "id": "SJtOIc99tNb6"
      },
      "source": [
        "#### Accuracy = 81%\n",
        "#### Precision = 79%"
      ]
    },
    {
      "cell_type": "code",
      "execution_count": null,
      "metadata": {
        "id": "hW3m66-ZtNb7",
        "outputId": "4b467524-2379-410b-df40-ed1a958e65e5"
      },
      "outputs": [
        {
          "data": {
            "text/plain": [
              "270    0.629146\n",
              "725    0.213907\n",
              "31     0.121370\n",
              "342    0.591113\n",
              "604    0.289830\n",
              "dtype: float64"
            ]
          },
          "execution_count": 30,
          "metadata": {},
          "output_type": "execute_result"
        }
      ],
      "source": [
        "predik1 = reglog.predict(xtest)\n",
        "predik1.head()"
      ]
    },
    {
      "cell_type": "code",
      "execution_count": null,
      "metadata": {
        "id": "KT1fTs6qtNb7",
        "outputId": "0d378142-d302-4a56-cb13-c7798a27ffcd"
      },
      "outputs": [
        {
          "data": {
            "text/plain": [
              "270    1\n",
              "725    0\n",
              "31     0\n",
              "342    1\n",
              "604    0\n",
              "dtype: int32"
            ]
          },
          "execution_count": 31,
          "metadata": {},
          "output_type": "execute_result"
        }
      ],
      "source": [
        "predik1_code = (predik1 >= 0.5).astype(int)\n",
        "predik1_code.head()"
      ]
    },
    {
      "cell_type": "code",
      "execution_count": null,
      "metadata": {
        "id": "ssFGsu5NtNb8"
      },
      "outputs": [],
      "source": [
        "from sklearn.metrics import confusion_matrix"
      ]
    },
    {
      "cell_type": "code",
      "execution_count": null,
      "metadata": {
        "id": "VjJX4pAptNb9"
      },
      "outputs": [],
      "source": [
        "from sklearn.naive_bayes import GaussianNB"
      ]
    },
    {
      "cell_type": "code",
      "execution_count": null,
      "metadata": {
        "id": "-bk8lwzitNb9"
      },
      "outputs": [],
      "source": [
        "gnb = GaussianNB()"
      ]
    },
    {
      "cell_type": "code",
      "execution_count": null,
      "metadata": {
        "id": "5OW2T0BktNb9",
        "outputId": "e3a22bed-4a2c-4552-8fcf-606f1636cdf8"
      },
      "outputs": [
        {
          "name": "stderr",
          "output_type": "stream",
          "text": [
            "C:\\Users\\admin BASE\\Anaconda31\\lib\\site-packages\\sklearn\\utils\\validation.py:724: DataConversionWarning: A column-vector y was passed when a 1d array was expected. Please change the shape of y to (n_samples, ), for example using ravel().\n",
            "  y = column_or_1d(y, warn=True)\n"
          ]
        },
        {
          "data": {
            "text/plain": [
              "GaussianNB(priors=None, var_smoothing=1e-09)"
            ]
          },
          "execution_count": 35,
          "metadata": {},
          "output_type": "execute_result"
        }
      ],
      "source": [
        "gnb.fit(X_train,Y_train)"
      ]
    },
    {
      "cell_type": "code",
      "execution_count": null,
      "metadata": {
        "id": "x3lqNWPOtNb9",
        "outputId": "96688375-effb-4ea0-821c-c3e03715a283"
      },
      "outputs": [
        {
          "data": {
            "text/plain": [
              "array([1, 1, 0, 0, 0, 1, 0, 1, 0, 0, 0, 0, 1, 1, 0, 1, 0, 0, 0, 0, 0, 0,\n",
              "       0, 0, 1, 0, 0, 1, 0, 0, 1, 0, 1, 1, 0, 0, 0, 0, 1, 1, 1, 0, 0, 0,\n",
              "       0, 0, 0, 1, 0, 1, 0, 0, 0, 1, 0, 0, 0, 0, 0, 0, 0, 1, 0, 0, 0, 0,\n",
              "       0, 0, 0, 0, 0, 1, 0, 1, 0, 0, 1, 1, 1, 0, 0, 1, 1, 0, 1, 0, 0, 0,\n",
              "       0, 0, 0, 0, 1, 0, 0, 1, 1, 0, 0, 1, 0, 0, 1, 0, 0, 0, 1, 1, 1, 0,\n",
              "       1, 1, 0, 0, 0, 1, 0, 0, 0, 0, 0, 0, 0, 0, 0, 0, 0, 0, 1, 0, 0, 0,\n",
              "       1, 0, 1, 0, 1, 0, 0, 0, 1, 0, 0, 0, 1, 0, 1, 0, 0, 0, 0, 1, 0, 1,\n",
              "       1, 0, 1, 1, 0, 1, 1, 0, 0, 0, 0, 0, 1, 0, 0, 0, 1, 0, 0, 1, 1, 0,\n",
              "       0, 1, 0, 1, 1, 1, 1, 1, 0, 1, 0, 1, 1, 1, 0, 0, 0, 0, 0, 1, 0, 0,\n",
              "       1, 0, 0, 0, 1, 0, 0, 0, 1, 1, 0, 0, 1, 1, 1, 0, 0, 0, 0, 1, 1, 0,\n",
              "       1, 0, 0, 0, 0, 1, 0, 0, 0, 0, 1, 0, 0, 1, 0, 0, 0, 0, 1, 0, 0, 0,\n",
              "       0, 1, 0, 0, 0, 0, 0, 0, 0, 1, 0, 0, 0, 0, 1, 1, 1, 1, 1, 1, 1, 1,\n",
              "       1, 0, 1, 1, 1, 0, 0, 1, 1, 1, 0, 1, 0, 1, 0, 1, 1, 0, 0, 0, 1, 1,\n",
              "       0, 0, 0, 0, 1, 1, 0, 0, 0, 1, 0, 1, 1, 1, 0, 0, 1, 1, 0, 0, 0, 0,\n",
              "       0, 1, 1, 0, 0, 0, 1, 1, 0, 0, 1, 0, 1, 1, 0, 1, 0, 1, 0, 1, 1, 1,\n",
              "       1, 1, 1, 0, 0, 1, 1, 1, 1, 0, 0, 0, 0, 0, 1, 0, 0, 1, 1, 1, 1, 1,\n",
              "       0, 0, 0, 0, 1, 0, 1, 0, 0, 0, 1, 1, 0, 0, 0, 0, 1, 1, 1, 1, 0, 1,\n",
              "       0, 0, 0, 0, 1, 1, 1, 1, 0, 0, 0, 0, 1, 0, 1, 1, 0, 0, 0, 0, 1, 1,\n",
              "       1, 1, 1, 0, 0, 0, 0, 1, 1, 0, 1, 0, 0, 0, 1, 1, 1, 0, 0, 0, 1, 0,\n",
              "       0, 0, 1, 0, 1, 0, 0, 0, 0, 0, 0, 0, 0, 0, 1, 0, 1, 0, 0, 0, 0, 0,\n",
              "       1, 0, 0, 0, 1, 1, 0, 1, 1, 1, 0, 0, 1, 0, 0, 0, 1, 1, 0, 0, 0, 0,\n",
              "       1, 1, 1, 0, 0, 0, 0, 0, 0, 1, 0, 1, 0, 1, 0, 1, 1, 1, 0, 1, 0, 0,\n",
              "       1, 1, 1, 1, 1, 1, 0, 1, 0, 1, 0, 1, 1, 1, 1, 1, 1, 1, 1, 1, 0, 0,\n",
              "       0, 0, 1, 0, 1, 0, 1, 0, 1, 0, 1, 1, 1, 0, 1, 0, 1, 0, 0, 1, 1, 0,\n",
              "       1, 0, 0, 0, 0, 0, 0, 1, 0, 0, 0, 0, 0, 0, 1, 0, 1, 1, 1, 0, 0, 0,\n",
              "       0, 1, 1, 1, 1, 1, 1, 0, 0, 1, 0, 0, 1, 1, 1, 0, 0, 1, 1, 1, 0, 0,\n",
              "       0, 0, 0, 0, 1, 0, 0, 0, 0, 1, 1, 0, 0, 1, 0, 0, 1, 1, 0, 1, 0, 1,\n",
              "       1, 1, 0, 1, 1, 0, 0, 0, 1, 1, 0, 0, 0, 0, 1, 0, 1, 0, 0, 0, 0, 0,\n",
              "       0, 1, 1, 1, 0, 1, 0, 0, 1, 1, 0, 0, 0, 1, 1, 0, 1, 0, 1, 1, 1, 0,\n",
              "       0, 0, 0, 0, 1, 1, 0, 1, 0, 1, 0, 1, 0, 1, 0, 0, 1, 0, 0, 0, 0, 1,\n",
              "       1, 1, 1, 0, 1, 0, 1, 0, 1, 0, 0, 0, 1, 1, 1, 0, 0, 0, 1, 1, 1, 1,\n",
              "       0, 1, 0, 0, 1, 1, 0, 1, 0, 1, 1, 1, 0, 0, 1, 1, 0, 1, 0, 0, 0, 0,\n",
              "       0, 1, 1, 1, 0, 0, 0, 0, 1, 1, 0, 0, 0, 0, 0, 0, 1, 0, 1, 1, 0, 0,\n",
              "       1, 0, 1, 1, 0, 0, 1, 0, 0, 0, 1, 0, 0, 1, 0, 1, 1, 0, 0, 1, 1, 0,\n",
              "       0, 1, 1, 1, 1, 1, 1, 0, 1, 1, 0, 0, 0, 0, 0, 0, 1, 0, 0, 0, 0, 0,\n",
              "       0, 0, 1, 0, 1, 1, 0, 1, 0, 1, 0, 0, 0, 1, 0, 0, 1, 1, 1, 0, 0, 1,\n",
              "       0, 0, 1, 1, 1, 0], dtype=int64)"
            ]
          },
          "execution_count": 36,
          "metadata": {},
          "output_type": "execute_result"
        }
      ],
      "source": [
        "yhat_nb = gnb.predict(X_train)\n",
        "yhat_nb"
      ]
    },
    {
      "cell_type": "code",
      "execution_count": null,
      "metadata": {
        "id": "_JkRTMnWtNcA",
        "outputId": "9a94277c-b786-4d40-9454-cc8fafde9fdf"
      },
      "outputs": [
        {
          "name": "stdout",
          "output_type": "stream",
          "text": [
            "              precision    recall  f1-score   support\n",
            "\n",
            "           0       0.89      0.76      0.82       545\n",
            "           1       0.60      0.79      0.68       253\n",
            "\n",
            "    accuracy                           0.77       798\n",
            "   macro avg       0.74      0.78      0.75       798\n",
            "weighted avg       0.80      0.77      0.77       798\n",
            "\n"
          ]
        }
      ],
      "source": [
        "print(classification_report(Y_train, yhat_nb))"
      ]
    },
    {
      "cell_type": "code",
      "execution_count": null,
      "metadata": {
        "id": "ZP53TYdCtNcA"
      },
      "outputs": [],
      "source": [
        "predik_nb = gnb.predict(X_test)"
      ]
    },
    {
      "cell_type": "code",
      "execution_count": null,
      "metadata": {
        "id": "0WRf-6IatNcA",
        "outputId": "e3c6ddb8-f3a6-4997-8b40-84f6da2ad79c"
      },
      "outputs": [
        {
          "data": {
            "text/plain": [
              "array([1, 0, 0, 1, 0, 0, 1, 0, 1, 0, 0, 0, 0, 1, 1, 1, 1, 1, 1, 0, 1, 0,\n",
              "       1, 1, 0, 1, 1, 0, 1, 0, 1, 0, 0, 0, 0, 1, 0, 0, 1, 1, 0, 1, 1, 1,\n",
              "       1, 1, 1, 0, 1, 1, 1, 0, 0, 0, 1, 1, 0, 0, 1, 0, 0, 1, 1, 1, 1, 0,\n",
              "       1, 0, 0, 0, 0, 0, 0, 1, 0, 0, 1, 0, 0, 0, 0, 0, 0, 0, 1, 1, 0, 0,\n",
              "       1, 1, 0, 1, 0, 1, 0, 0, 1, 0, 1, 1, 1, 1, 0, 1, 1, 0, 0, 0, 1, 1,\n",
              "       1, 1, 1, 1, 0, 0, 1, 1, 1, 0, 0, 1, 0, 0, 0, 0, 1, 0, 0, 1, 0, 0,\n",
              "       1, 0, 1, 1, 0, 0, 0, 0, 0, 1, 0, 0, 0, 1, 0, 0, 0, 0, 0, 1, 0, 1,\n",
              "       0, 1, 0, 0, 0, 1, 0, 1, 1, 0, 0, 1, 0, 0, 1, 0, 0, 1, 0, 1, 0, 0,\n",
              "       1, 1, 1, 0, 0, 0, 1, 1, 1, 1, 1, 1, 0, 0, 1, 0, 1, 1, 0, 0, 0, 1,\n",
              "       0, 0], dtype=int64)"
            ]
          },
          "execution_count": 39,
          "metadata": {},
          "output_type": "execute_result"
        }
      ],
      "source": [
        "predik_nb"
      ]
    },
    {
      "cell_type": "code",
      "execution_count": null,
      "metadata": {
        "id": "XbgSsMkRtNcB",
        "outputId": "eebda916-aba9-4d3b-bad2-c5b9bff8959d"
      },
      "outputs": [
        {
          "name": "stdout",
          "output_type": "stream",
          "text": [
            "              precision    recall  f1-score   support\n",
            "\n",
            "           0       0.89      0.74      0.81       130\n",
            "           1       0.63      0.83      0.72        70\n",
            "\n",
            "    accuracy                           0.77       200\n",
            "   macro avg       0.76      0.78      0.76       200\n",
            "weighted avg       0.80      0.77      0.77       200\n",
            "\n"
          ]
        }
      ],
      "source": [
        "print(classification_report(Y_test, predik_nb))"
      ]
    },
    {
      "cell_type": "markdown",
      "metadata": {
        "id": "h7xXJWM7tNcB"
      },
      "source": [
        "#### One Hot Encoded"
      ]
    },
    {
      "cell_type": "code",
      "execution_count": null,
      "metadata": {
        "id": "4s8neaXmtNcB",
        "outputId": "1d7e9201-a3af-4373-b281-390c2989a720"
      },
      "outputs": [
        {
          "data": {
            "text/html": [
              "<div>\n",
              "<style scoped>\n",
              "    .dataframe tbody tr th:only-of-type {\n",
              "        vertical-align: middle;\n",
              "    }\n",
              "\n",
              "    .dataframe tbody tr th {\n",
              "        vertical-align: top;\n",
              "    }\n",
              "\n",
              "    .dataframe thead th {\n",
              "        text-align: right;\n",
              "    }\n",
              "</style>\n",
              "<table border=\"1\" class=\"dataframe\">\n",
              "  <thead>\n",
              "    <tr style=\"text-align: right;\">\n",
              "      <th></th>\n",
              "      <th>Status</th>\n",
              "      <th>Status_code</th>\n",
              "      <th>Age</th>\n",
              "      <th>LastTransaction</th>\n",
              "      <th>Gender_female</th>\n",
              "      <th>Gender_male</th>\n",
              "      <th>Payment Method_cash</th>\n",
              "      <th>Payment Method_cheque</th>\n",
              "      <th>Payment Method_credit card</th>\n",
              "    </tr>\n",
              "  </thead>\n",
              "  <tbody>\n",
              "    <tr>\n",
              "      <td>0</td>\n",
              "      <td>Loyal</td>\n",
              "      <td>0</td>\n",
              "      <td>64</td>\n",
              "      <td>98</td>\n",
              "      <td>0</td>\n",
              "      <td>1</td>\n",
              "      <td>0</td>\n",
              "      <td>0</td>\n",
              "      <td>1</td>\n",
              "    </tr>\n",
              "    <tr>\n",
              "      <td>1</td>\n",
              "      <td>Churn</td>\n",
              "      <td>1</td>\n",
              "      <td>35</td>\n",
              "      <td>118</td>\n",
              "      <td>0</td>\n",
              "      <td>1</td>\n",
              "      <td>0</td>\n",
              "      <td>1</td>\n",
              "      <td>0</td>\n",
              "    </tr>\n",
              "    <tr>\n",
              "      <td>2</td>\n",
              "      <td>Loyal</td>\n",
              "      <td>0</td>\n",
              "      <td>25</td>\n",
              "      <td>107</td>\n",
              "      <td>1</td>\n",
              "      <td>0</td>\n",
              "      <td>0</td>\n",
              "      <td>0</td>\n",
              "      <td>1</td>\n",
              "    </tr>\n",
              "    <tr>\n",
              "      <td>3</td>\n",
              "      <td>Loyal</td>\n",
              "      <td>0</td>\n",
              "      <td>39</td>\n",
              "      <td>177</td>\n",
              "      <td>1</td>\n",
              "      <td>0</td>\n",
              "      <td>0</td>\n",
              "      <td>0</td>\n",
              "      <td>1</td>\n",
              "    </tr>\n",
              "    <tr>\n",
              "      <td>4</td>\n",
              "      <td>Loyal</td>\n",
              "      <td>0</td>\n",
              "      <td>39</td>\n",
              "      <td>90</td>\n",
              "      <td>0</td>\n",
              "      <td>1</td>\n",
              "      <td>0</td>\n",
              "      <td>0</td>\n",
              "      <td>1</td>\n",
              "    </tr>\n",
              "  </tbody>\n",
              "</table>\n",
              "</div>"
            ],
            "text/plain": [
              "  Status  Status_code  Age  LastTransaction  Gender_female  Gender_male  \\\n",
              "0  Loyal            0   64               98              0            1   \n",
              "1  Churn            1   35              118              0            1   \n",
              "2  Loyal            0   25              107              1            0   \n",
              "3  Loyal            0   39              177              1            0   \n",
              "4  Loyal            0   39               90              0            1   \n",
              "\n",
              "   Payment Method_cash  Payment Method_cheque  Payment Method_credit card  \n",
              "0                    0                      0                           1  \n",
              "1                    0                      1                           0  \n",
              "2                    0                      0                           1  \n",
              "3                    0                      0                           1  \n",
              "4                    0                      0                           1  "
            ]
          },
          "execution_count": 41,
          "metadata": {},
          "output_type": "execute_result"
        }
      ],
      "source": [
        "cust_data= pd.get_dummies(cust, columns = ['Gender', 'Payment Method'])\n",
        "cust_data.head()"
      ]
    },
    {
      "cell_type": "code",
      "execution_count": null,
      "metadata": {
        "id": "ygtXrIx6tNcC"
      },
      "outputs": [],
      "source": []
    },
    {
      "cell_type": "code",
      "execution_count": null,
      "metadata": {
        "id": "0ZyihPRYtNcC"
      },
      "outputs": [],
      "source": [
        "from sklearn.model_selection import train_test_split\n",
        "X_train, X_test, Y_train, Y_test = train_test_split(X,Y,test_size=0.2,random_state=0)"
      ]
    },
    {
      "cell_type": "code",
      "execution_count": null,
      "metadata": {
        "id": "Vtmh_A8LtNcC",
        "outputId": "aa08e842-8f5b-4985-f8a3-f57317e03a67"
      },
      "outputs": [
        {
          "data": {
            "text/html": [
              "<div>\n",
              "<style scoped>\n",
              "    .dataframe tbody tr th:only-of-type {\n",
              "        vertical-align: middle;\n",
              "    }\n",
              "\n",
              "    .dataframe tbody tr th {\n",
              "        vertical-align: top;\n",
              "    }\n",
              "\n",
              "    .dataframe thead th {\n",
              "        text-align: right;\n",
              "    }\n",
              "</style>\n",
              "<table border=\"1\" class=\"dataframe\">\n",
              "  <thead>\n",
              "    <tr style=\"text-align: right;\">\n",
              "      <th></th>\n",
              "      <th>Age</th>\n",
              "      <th>LastTransaction</th>\n",
              "      <th>Gender_female</th>\n",
              "      <th>Gender_male</th>\n",
              "      <th>Payment Method_cash</th>\n",
              "      <th>Payment Method_cheque</th>\n",
              "      <th>Payment Method_credit card</th>\n",
              "    </tr>\n",
              "  </thead>\n",
              "  <tbody>\n",
              "    <tr>\n",
              "      <td>692</td>\n",
              "      <td>20</td>\n",
              "      <td>118</td>\n",
              "      <td>1</td>\n",
              "      <td>0</td>\n",
              "      <td>0</td>\n",
              "      <td>0</td>\n",
              "      <td>1</td>\n",
              "    </tr>\n",
              "    <tr>\n",
              "      <td>516</td>\n",
              "      <td>18</td>\n",
              "      <td>90</td>\n",
              "      <td>1</td>\n",
              "      <td>0</td>\n",
              "      <td>0</td>\n",
              "      <td>0</td>\n",
              "      <td>1</td>\n",
              "    </tr>\n",
              "    <tr>\n",
              "      <td>880</td>\n",
              "      <td>45</td>\n",
              "      <td>63</td>\n",
              "      <td>0</td>\n",
              "      <td>1</td>\n",
              "      <td>1</td>\n",
              "      <td>0</td>\n",
              "      <td>0</td>\n",
              "    </tr>\n",
              "    <tr>\n",
              "      <td>113</td>\n",
              "      <td>40</td>\n",
              "      <td>82</td>\n",
              "      <td>0</td>\n",
              "      <td>1</td>\n",
              "      <td>0</td>\n",
              "      <td>0</td>\n",
              "      <td>1</td>\n",
              "    </tr>\n",
              "    <tr>\n",
              "      <td>871</td>\n",
              "      <td>19</td>\n",
              "      <td>72</td>\n",
              "      <td>0</td>\n",
              "      <td>1</td>\n",
              "      <td>0</td>\n",
              "      <td>0</td>\n",
              "      <td>1</td>\n",
              "    </tr>\n",
              "  </tbody>\n",
              "</table>\n",
              "</div>"
            ],
            "text/plain": [
              "     Age  LastTransaction  Gender_female  Gender_male  Payment Method_cash  \\\n",
              "692   20              118              1            0                    0   \n",
              "516   18               90              1            0                    0   \n",
              "880   45               63              0            1                    1   \n",
              "113   40               82              0            1                    0   \n",
              "871   19               72              0            1                    0   \n",
              "\n",
              "     Payment Method_cheque  Payment Method_credit card  \n",
              "692                      0                           1  \n",
              "516                      0                           1  \n",
              "880                      0                           0  \n",
              "113                      0                           1  \n",
              "871                      0                           1  "
            ]
          },
          "execution_count": 43,
          "metadata": {},
          "output_type": "execute_result"
        }
      ],
      "source": [
        "X_train.head()"
      ]
    },
    {
      "cell_type": "code",
      "execution_count": null,
      "metadata": {
        "id": "xu79veXYtNcD",
        "outputId": "1eefd124-32ba-425b-f90c-a776c0944b4c"
      },
      "outputs": [
        {
          "data": {
            "text/html": [
              "<div>\n",
              "<style scoped>\n",
              "    .dataframe tbody tr th:only-of-type {\n",
              "        vertical-align: middle;\n",
              "    }\n",
              "\n",
              "    .dataframe tbody tr th {\n",
              "        vertical-align: top;\n",
              "    }\n",
              "\n",
              "    .dataframe thead th {\n",
              "        text-align: right;\n",
              "    }\n",
              "</style>\n",
              "<table border=\"1\" class=\"dataframe\">\n",
              "  <thead>\n",
              "    <tr style=\"text-align: right;\">\n",
              "      <th></th>\n",
              "      <th>Age</th>\n",
              "      <th>LastTransaction</th>\n",
              "      <th>Gender_female</th>\n",
              "      <th>Gender_male</th>\n",
              "      <th>Payment Method_cash</th>\n",
              "      <th>Payment Method_cheque</th>\n",
              "      <th>Payment Method_credit card</th>\n",
              "    </tr>\n",
              "  </thead>\n",
              "  <tbody>\n",
              "    <tr>\n",
              "      <td>0</td>\n",
              "      <td>64</td>\n",
              "      <td>98</td>\n",
              "      <td>0</td>\n",
              "      <td>1</td>\n",
              "      <td>0</td>\n",
              "      <td>0</td>\n",
              "      <td>1</td>\n",
              "    </tr>\n",
              "    <tr>\n",
              "      <td>1</td>\n",
              "      <td>35</td>\n",
              "      <td>118</td>\n",
              "      <td>0</td>\n",
              "      <td>1</td>\n",
              "      <td>0</td>\n",
              "      <td>1</td>\n",
              "      <td>0</td>\n",
              "    </tr>\n",
              "    <tr>\n",
              "      <td>2</td>\n",
              "      <td>25</td>\n",
              "      <td>107</td>\n",
              "      <td>1</td>\n",
              "      <td>0</td>\n",
              "      <td>0</td>\n",
              "      <td>0</td>\n",
              "      <td>1</td>\n",
              "    </tr>\n",
              "    <tr>\n",
              "      <td>3</td>\n",
              "      <td>39</td>\n",
              "      <td>177</td>\n",
              "      <td>1</td>\n",
              "      <td>0</td>\n",
              "      <td>0</td>\n",
              "      <td>0</td>\n",
              "      <td>1</td>\n",
              "    </tr>\n",
              "    <tr>\n",
              "      <td>4</td>\n",
              "      <td>39</td>\n",
              "      <td>90</td>\n",
              "      <td>0</td>\n",
              "      <td>1</td>\n",
              "      <td>0</td>\n",
              "      <td>0</td>\n",
              "      <td>1</td>\n",
              "    </tr>\n",
              "  </tbody>\n",
              "</table>\n",
              "</div>"
            ],
            "text/plain": [
              "   Age  LastTransaction  Gender_female  Gender_male  Payment Method_cash  \\\n",
              "0   64               98              0            1                    0   \n",
              "1   35              118              0            1                    0   \n",
              "2   25              107              1            0                    0   \n",
              "3   39              177              1            0                    0   \n",
              "4   39               90              0            1                    0   \n",
              "\n",
              "   Payment Method_cheque  Payment Method_credit card  \n",
              "0                      0                           1  \n",
              "1                      1                           0  \n",
              "2                      0                           1  \n",
              "3                      0                           1  \n",
              "4                      0                           1  "
            ]
          },
          "execution_count": 44,
          "metadata": {},
          "output_type": "execute_result"
        }
      ],
      "source": [
        "X = cust_data.iloc[:,2:9]\n",
        "X.head()"
      ]
    },
    {
      "cell_type": "code",
      "execution_count": null,
      "metadata": {
        "id": "Cs05NMYxtNcD",
        "outputId": "878b04ba-60c1-4245-86c2-fe888491aa6f"
      },
      "outputs": [
        {
          "data": {
            "text/html": [
              "<div>\n",
              "<style scoped>\n",
              "    .dataframe tbody tr th:only-of-type {\n",
              "        vertical-align: middle;\n",
              "    }\n",
              "\n",
              "    .dataframe tbody tr th {\n",
              "        vertical-align: top;\n",
              "    }\n",
              "\n",
              "    .dataframe thead th {\n",
              "        text-align: right;\n",
              "    }\n",
              "</style>\n",
              "<table border=\"1\" class=\"dataframe\">\n",
              "  <thead>\n",
              "    <tr style=\"text-align: right;\">\n",
              "      <th></th>\n",
              "      <th>Status_code</th>\n",
              "    </tr>\n",
              "  </thead>\n",
              "  <tbody>\n",
              "    <tr>\n",
              "      <td>0</td>\n",
              "      <td>0</td>\n",
              "    </tr>\n",
              "    <tr>\n",
              "      <td>1</td>\n",
              "      <td>1</td>\n",
              "    </tr>\n",
              "    <tr>\n",
              "      <td>2</td>\n",
              "      <td>0</td>\n",
              "    </tr>\n",
              "    <tr>\n",
              "      <td>3</td>\n",
              "      <td>0</td>\n",
              "    </tr>\n",
              "    <tr>\n",
              "      <td>4</td>\n",
              "      <td>0</td>\n",
              "    </tr>\n",
              "  </tbody>\n",
              "</table>\n",
              "</div>"
            ],
            "text/plain": [
              "   Status_code\n",
              "0            0\n",
              "1            1\n",
              "2            0\n",
              "3            0\n",
              "4            0"
            ]
          },
          "execution_count": 45,
          "metadata": {},
          "output_type": "execute_result"
        }
      ],
      "source": [
        "Y = cust_data.loc[:,['Status_code']]\n",
        "Y.head()"
      ]
    },
    {
      "cell_type": "markdown",
      "metadata": {
        "id": "YXtfjMortNcD"
      },
      "source": [
        "#### Decision Tree"
      ]
    },
    {
      "cell_type": "code",
      "execution_count": null,
      "metadata": {
        "id": "ClEtBvmztNcE"
      },
      "outputs": [],
      "source": [
        "from sklearn import tree\n",
        "from matplotlib import pyplot as plt"
      ]
    },
    {
      "cell_type": "code",
      "execution_count": null,
      "metadata": {
        "id": "Q-xQTzWMtNcE"
      },
      "outputs": [],
      "source": [
        "dt = tree.DecisionTreeClassifier(max_depth = 2, random_state = 0)"
      ]
    },
    {
      "cell_type": "code",
      "execution_count": null,
      "metadata": {
        "id": "lT3r1VQ2tNcF",
        "outputId": "717bedff-2620-4dd9-be66-e09fd86fbc54"
      },
      "outputs": [
        {
          "data": {
            "text/plain": [
              "DecisionTreeClassifier(class_weight=None, criterion='gini', max_depth=2,\n",
              "                       max_features=None, max_leaf_nodes=None,\n",
              "                       min_impurity_decrease=0.0, min_impurity_split=None,\n",
              "                       min_samples_leaf=1, min_samples_split=2,\n",
              "                       min_weight_fraction_leaf=0.0, presort=False,\n",
              "                       random_state=0, splitter='best')"
            ]
          },
          "execution_count": 54,
          "metadata": {},
          "output_type": "execute_result"
        }
      ],
      "source": [
        "dt.fit(X_train,Y_train)"
      ]
    },
    {
      "cell_type": "code",
      "execution_count": null,
      "metadata": {
        "id": "xr7S5MMNtNcF",
        "outputId": "f9e47a1f-f810-44a4-ec06-9b4e03de46b0"
      },
      "outputs": [
        {
          "data": {
            "image/png": "[encoded data removed]",
            "text/plain": [
              "<Figure size 432x288 with 1 Axes>"
            ]
          },
          "metadata": {
            "needs_background": "light"
          },
          "output_type": "display_data"
        }
      ],
      "source": [
        "tree.plot_tree(dt)\n",
        "plt.show()"
      ]
    },
    {
      "cell_type": "code",
      "execution_count": null,
      "metadata": {
        "id": "t82GBrC_tNcG"
      },
      "outputs": [],
      "source": [
        "yhat_dt = dt.predict(X_train)"
      ]
    },
    {
      "cell_type": "code",
      "execution_count": null,
      "metadata": {
        "id": "Tm78uy96tNcH",
        "outputId": "b4fa31e6-78b9-42e0-df9f-8a0f38d2516f"
      },
      "outputs": [
        {
          "name": "stdout",
          "output_type": "stream",
          "text": [
            "              precision    recall  f1-score   support\n",
            "\n",
            "           0       0.86      0.85      0.86       545\n",
            "           1       0.69      0.70      0.69       253\n",
            "\n",
            "    accuracy                           0.80       798\n",
            "   macro avg       0.77      0.78      0.77       798\n",
            "weighted avg       0.80      0.80      0.80       798\n",
            "\n"
          ]
        }
      ],
      "source": [
        "print(classification_report(Y_train, yhat_dt))"
      ]
    },
    {
      "cell_type": "code",
      "execution_count": null,
      "metadata": {
        "id": "DBJrp-zxtNcH"
      },
      "outputs": [],
      "source": [
        "predik_dt = dt.predict(X_test)"
      ]
    },
    {
      "cell_type": "code",
      "execution_count": null,
      "metadata": {
        "id": "NJnFs2gctNcI",
        "outputId": "edc949f4-a161-46c1-d70f-953c5259a80e"
      },
      "outputs": [
        {
          "name": "stdout",
          "output_type": "stream",
          "text": [
            "              precision    recall  f1-score   support\n",
            "\n",
            "           0       0.86      0.88      0.87       130\n",
            "           1       0.78      0.74      0.76        70\n",
            "\n",
            "    accuracy                           0.83       200\n",
            "   macro avg       0.82      0.81      0.82       200\n",
            "weighted avg       0.83      0.83      0.83       200\n",
            "\n"
          ]
        }
      ],
      "source": [
        "print(classification_report(Y_test, predik_dt))"
      ]
    },
    {
      "cell_type": "code",
      "execution_count": null,
      "metadata": {
        "id": "7jK62tBNtNcI"
      },
      "outputs": [],
      "source": [
        "dt1 = tree.DecisionTreeClassifier(max_depth = 3, random_state = 0)"
      ]
    },
    {
      "cell_type": "code",
      "execution_count": null,
      "metadata": {
        "id": "BpLJkv2qtNcJ",
        "outputId": "890d5360-a953-40c7-cbb2-dfd3b58a66c1"
      },
      "outputs": [
        {
          "data": {
            "text/plain": [
              "DecisionTreeClassifier(class_weight=None, criterion='gini', max_depth=3,\n",
              "                       max_features=None, max_leaf_nodes=None,\n",
              "                       min_impurity_decrease=0.0, min_impurity_split=None,\n",
              "                       min_samples_leaf=1, min_samples_split=2,\n",
              "                       min_weight_fraction_leaf=0.0, presort=False,\n",
              "                       random_state=0, splitter='best')"
            ]
          },
          "execution_count": 64,
          "metadata": {},
          "output_type": "execute_result"
        }
      ],
      "source": [
        "dt1.fit(X_train,Y_train)"
      ]
    },
    {
      "cell_type": "code",
      "execution_count": null,
      "metadata": {
        "id": "YdgtrvBntNcJ",
        "outputId": "374235fe-0718-4d70-ca64-5211eb343e51"
      },
      "outputs": [
        {
          "data": {
            "image/png": "[encoded data removed]",
            "text/plain": [
              "<Figure size 432x288 with 1 Axes>"
            ]
          },
          "metadata": {
            "needs_background": "light"
          },
          "output_type": "display_data"
        }
      ],
      "source": [
        "tree.plot_tree(dt1)\n",
        "plt.show()"
      ]
    },
    {
      "cell_type": "code",
      "execution_count": null,
      "metadata": {
        "id": "ZaDVY3YjtNcJ"
      },
      "outputs": [],
      "source": [
        "yhat_dt1 = dt1.predict(X_train)"
      ]
    },
    {
      "cell_type": "code",
      "execution_count": null,
      "metadata": {
        "id": "IwbBjJy4tNcK",
        "outputId": "f481c2b7-333b-406b-f93c-d61f322b61ef"
      },
      "outputs": [
        {
          "name": "stdout",
          "output_type": "stream",
          "text": [
            "              precision    recall  f1-score   support\n",
            "\n",
            "           0       0.89      0.84      0.87       545\n",
            "           1       0.70      0.77      0.73       253\n",
            "\n",
            "    accuracy                           0.82       798\n",
            "   macro avg       0.79      0.81      0.80       798\n",
            "weighted avg       0.83      0.82      0.82       798\n",
            "\n"
          ]
        }
      ],
      "source": [
        "print(classification_report(Y_train, yhat_dt1))"
      ]
    },
    {
      "cell_type": "code",
      "execution_count": null,
      "metadata": {
        "id": "eVQCDdpttNcK"
      },
      "outputs": [],
      "source": [
        "predik_dt1 = dt1.predict(X_test)"
      ]
    },
    {
      "cell_type": "code",
      "execution_count": null,
      "metadata": {
        "id": "2QBETcoStNcK",
        "outputId": "e12a8af2-fc48-46b3-bcd5-898fcc6ddfbc"
      },
      "outputs": [
        {
          "name": "stdout",
          "output_type": "stream",
          "text": [
            "              precision    recall  f1-score   support\n",
            "\n",
            "           0       0.90      0.87      0.88       130\n",
            "           1       0.77      0.81      0.79        70\n",
            "\n",
            "    accuracy                           0.85       200\n",
            "   macro avg       0.83      0.84      0.84       200\n",
            "weighted avg       0.85      0.85      0.85       200\n",
            "\n"
          ]
        }
      ],
      "source": [
        "print(classification_report(Y_test, predik_dt1))"
      ]
    },
    {
      "cell_type": "code",
      "execution_count": null,
      "metadata": {
        "id": "PjHSGCBgtNcL"
      },
      "outputs": [],
      "source": [
        "from sklearn.ensemble import RandomForestRegressor"
      ]
    },
    {
      "cell_type": "code",
      "execution_count": null,
      "metadata": {
        "id": "69rv0ttptNcL"
      },
      "outputs": [],
      "source": [
        "rf = RandomForestRegressor(n_estimators = 10, random_state = 0)"
      ]
    },
    {
      "cell_type": "code",
      "execution_count": null,
      "metadata": {
        "id": "a2Ok6utftNcL",
        "outputId": "32cafbb8-2969-414e-c8f4-4c22e403a738"
      },
      "outputs": [
        {
          "name": "stderr",
          "output_type": "stream",
          "text": [
            "C:\\Users\\admin BASE\\Anaconda31\\lib\\site-packages\\ipykernel_launcher.py:1: DataConversionWarning: A column-vector y was passed when a 1d array was expected. Please change the shape of y to (n_samples,), for example using ravel().\n",
            "  \"\"\"Entry point for launching an IPython kernel.\n"
          ]
        },
        {
          "data": {
            "text/plain": [
              "RandomForestRegressor(bootstrap=True, criterion='mse', max_depth=None,\n",
              "                      max_features='auto', max_leaf_nodes=None,\n",
              "                      min_impurity_decrease=0.0, min_impurity_split=None,\n",
              "                      min_samples_leaf=1, min_samples_split=2,\n",
              "                      min_weight_fraction_leaf=0.0, n_estimators=10,\n",
              "                      n_jobs=None, oob_score=False, random_state=0, verbose=0,\n",
              "                      warm_start=False)"
            ]
          },
          "execution_count": 72,
          "metadata": {},
          "output_type": "execute_result"
        }
      ],
      "source": [
        "rf.fit(X_train, Y_train)"
      ]
    },
    {
      "cell_type": "code",
      "execution_count": null,
      "metadata": {
        "id": "SnOGybHbtNcL"
      },
      "outputs": [],
      "source": [
        "yhat_rf = rf.predict(X_train)"
      ]
    },
    {
      "cell_type": "code",
      "execution_count": null,
      "metadata": {
        "id": "ET1E72QItNcM"
      },
      "outputs": [],
      "source": [
        "yhat_rf_code = (yhat_rf >= 0.5).astype(int)"
      ]
    },
    {
      "cell_type": "code",
      "execution_count": null,
      "metadata": {
        "id": "8v7AzqUZtNcM",
        "outputId": "faa072b2-1164-44d1-fb76-ca7ff7c77e9e"
      },
      "outputs": [
        {
          "name": "stdout",
          "output_type": "stream",
          "text": [
            "              precision    recall  f1-score   support\n",
            "\n",
            "           0       0.98      0.99      0.99       545\n",
            "           1       0.98      0.96      0.97       253\n",
            "\n",
            "    accuracy                           0.98       798\n",
            "   macro avg       0.98      0.98      0.98       798\n",
            "weighted avg       0.98      0.98      0.98       798\n",
            "\n"
          ]
        }
      ],
      "source": [
        "print(classification_report(Y_train, yhat_rf_code))"
      ]
    },
    {
      "cell_type": "code",
      "execution_count": null,
      "metadata": {
        "id": "l05jJTcAtNcN"
      },
      "outputs": [],
      "source": [
        "predik_rf = rf.predict(X_test)"
      ]
    },
    {
      "cell_type": "code",
      "execution_count": null,
      "metadata": {
        "id": "x9Nw_Ei_tNcN"
      },
      "outputs": [],
      "source": [
        "predik_rf_code = (predik_rf >= 0.5).astype(int)"
      ]
    },
    {
      "cell_type": "code",
      "execution_count": null,
      "metadata": {
        "id": "LaYxiTQttNcN",
        "outputId": "4a31c213-3ddf-435c-f9c8-d6192b5fc0aa"
      },
      "outputs": [
        {
          "name": "stdout",
          "output_type": "stream",
          "text": [
            "              precision    recall  f1-score   support\n",
            "\n",
            "           0       0.74      0.80      0.77       130\n",
            "           1       0.57      0.49      0.52        70\n",
            "\n",
            "    accuracy                           0.69       200\n",
            "   macro avg       0.65      0.64      0.65       200\n",
            "weighted avg       0.68      0.69      0.68       200\n",
            "\n"
          ]
        }
      ],
      "source": [
        "print(classification_report(Y_test, predik_rf_code))"
      ]
    },
    {
      "cell_type": "code",
      "execution_count": null,
      "metadata": {
        "id": "1rtvjiDLtNcO"
      },
      "outputs": [],
      "source": [
        "from sklearn.neighbors import KNeighborsClassifier"
      ]
    },
    {
      "cell_type": "code",
      "execution_count": null,
      "metadata": {
        "id": "X_NFB0ArtNcO",
        "outputId": "ef55ae96-f75d-4c64-dbec-a9a9be5f5d60"
      },
      "outputs": [
        {
          "name": "stderr",
          "output_type": "stream",
          "text": [
            "C:\\Users\\admin BASE\\Anaconda31\\lib\\site-packages\\ipykernel_launcher.py:2: DataConversionWarning: A column-vector y was passed when a 1d array was expected. Please change the shape of y to (n_samples, ), for example using ravel().\n",
            "  \n"
          ]
        },
        {
          "data": {
            "text/plain": [
              "KNeighborsClassifier(algorithm='auto', leaf_size=30, metric='minkowski',\n",
              "                     metric_params=None, n_jobs=None, n_neighbors=5, p=2,\n",
              "                     weights='uniform')"
            ]
          },
          "execution_count": 92,
          "metadata": {},
          "output_type": "execute_result"
        }
      ],
      "source": [
        "knn = KNeighborsClassifier(n_neighbors = 5)\n",
        "knn.fit(X_train, Y_train)"
      ]
    },
    {
      "cell_type": "code",
      "execution_count": null,
      "metadata": {
        "id": "uk2-qRc6tNcQ"
      },
      "outputs": [],
      "source": [
        "yhat_knn = knn.predict(X_train)"
      ]
    },
    {
      "cell_type": "code",
      "execution_count": null,
      "metadata": {
        "id": "eVmoCOZHtNcR",
        "outputId": "2f7e4840-149f-4c9d-ec89-b0300d146373"
      },
      "outputs": [
        {
          "name": "stdout",
          "output_type": "stream",
          "text": [
            "              precision    recall  f1-score   support\n",
            "\n",
            "           0       0.82      0.92      0.87       545\n",
            "           1       0.76      0.56      0.64       253\n",
            "\n",
            "    accuracy                           0.80       798\n",
            "   macro avg       0.79      0.74      0.75       798\n",
            "weighted avg       0.80      0.80      0.80       798\n",
            "\n"
          ]
        }
      ],
      "source": [
        "print(classification_report(Y_train, yhat_knn))"
      ]
    },
    {
      "cell_type": "markdown",
      "metadata": {
        "id": "7LzhdIbYtNcR"
      },
      "source": [
        "##### 3 (Acc, Prec, Rec) = 0.82; 0.81; 0.77\n",
        "##### 4 = 0.79; 0.82; 0.68\n",
        "##### 5 = 0.80; 0.79; 0.74"
      ]
    },
    {
      "cell_type": "code",
      "execution_count": null,
      "metadata": {
        "id": "4gcJRj1NtNcS"
      },
      "outputs": [],
      "source": []
    }
  ],
  "metadata": {
    "kernelspec": {
      "display_name": "Python 3",
      "language": "python",
      "name": "python3"
    },
    "language_info": {
      "codemirror_mode": {
        "name": "ipython",
        "version": 3
      },
      "file_extension": ".py",
      "mimetype": "text/x-python",
      "name": "python",
      "nbconvert_exporter": "python",
      "pygments_lexer": "ipython3",
      "version": "3.7.4"
    },
    "colab": {
      "provenance": []
    }
  },
  "nbformat": 4,
  "nbformat_minor": 0
}