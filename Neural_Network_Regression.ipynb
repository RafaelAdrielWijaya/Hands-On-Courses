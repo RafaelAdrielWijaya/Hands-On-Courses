{
  "cells": [
    {
      "cell_type": "code",
      "execution_count": null,
      "metadata": {
        "id": "H8mlweqEW1-M"
      },
      "outputs": [],
      "source": [
        "import numpy as np\n",
        "import pandas as pd\n",
        "import matplotlib.pyplot as plt"
      ]
    },
    {
      "cell_type": "code",
      "execution_count": null,
      "metadata": {
        "id": "snb_EqKpW1-N",
        "outputId": "8d108939-f310-497b-b6c3-6f42ce8c7540"
      },
      "outputs": [
        {
          "data": {
            "text/html": [
              "<div>\n",
              "<style scoped>\n",
              "    .dataframe tbody tr th:only-of-type {\n",
              "        vertical-align: middle;\n",
              "    }\n",
              "\n",
              "    .dataframe tbody tr th {\n",
              "        vertical-align: top;\n",
              "    }\n",
              "\n",
              "    .dataframe thead th {\n",
              "        text-align: right;\n",
              "    }\n",
              "</style>\n",
              "<table border=\"1\" class=\"dataframe\">\n",
              "  <thead>\n",
              "    <tr style=\"text-align: right;\">\n",
              "      <th></th>\n",
              "      <th>Price</th>\n",
              "      <th>Advertising</th>\n",
              "      <th>Sales</th>\n",
              "    </tr>\n",
              "  </thead>\n",
              "  <tbody>\n",
              "    <tr>\n",
              "      <td>0</td>\n",
              "      <td>2.0</td>\n",
              "      <td>53</td>\n",
              "      <td>478</td>\n",
              "    </tr>\n",
              "    <tr>\n",
              "      <td>1</td>\n",
              "      <td>2.5</td>\n",
              "      <td>52</td>\n",
              "      <td>373</td>\n",
              "    </tr>\n",
              "    <tr>\n",
              "      <td>2</td>\n",
              "      <td>3.0</td>\n",
              "      <td>50</td>\n",
              "      <td>335</td>\n",
              "    </tr>\n",
              "    <tr>\n",
              "      <td>3</td>\n",
              "      <td>2.0</td>\n",
              "      <td>55</td>\n",
              "      <td>473</td>\n",
              "    </tr>\n",
              "    <tr>\n",
              "      <td>4</td>\n",
              "      <td>2.5</td>\n",
              "      <td>53</td>\n",
              "      <td>358</td>\n",
              "    </tr>\n",
              "  </tbody>\n",
              "</table>\n",
              "</div>"
            ],
            "text/plain": [
              "   Price  Advertising  Sales\n",
              "0    2.0           53    478\n",
              "1    2.5           52    373\n",
              "2    3.0           50    335\n",
              "3    2.0           55    473\n",
              "4    2.5           53    358"
            ]
          },
          "execution_count": 147,
          "metadata": {},
          "output_type": "execute_result"
        }
      ],
      "source": [
        "sales = pd.read_csv(\"sales.csv\", sep=\";\")\n",
        "sales.head()"
      ]
    },
    {
      "cell_type": "code",
      "execution_count": null,
      "metadata": {
        "id": "cusmHo0KW1-O"
      },
      "outputs": [],
      "source": [
        "X = sales.iloc[:,1:2]\n",
        "Y = sales.iloc[:,2]"
      ]
    },
    {
      "cell_type": "code",
      "execution_count": null,
      "metadata": {
        "id": "aiwASoj0W1-O"
      },
      "outputs": [],
      "source": [
        "from sklearn.model_selection import train_test_split\n",
        "X_train, X_test, Y_train, Y_test = train_test_split(X,Y,test_size=0.2, random_state=0)"
      ]
    },
    {
      "cell_type": "code",
      "execution_count": null,
      "metadata": {
        "id": "NCcKmvFlW1-O"
      },
      "outputs": [],
      "source": [
        "from sklearn.neural_network import MLPRegressor"
      ]
    },
    {
      "cell_type": "code",
      "execution_count": null,
      "metadata": {
        "id": "JNsGn_z3W1-O"
      },
      "outputs": [],
      "source": [
        "nn_reg = MLPRegressor(random_state=1, max_iter=5000,hidden_layer_sizes=(1,2,3,4),activation='relu')"
      ]
    },
    {
      "cell_type": "code",
      "execution_count": null,
      "metadata": {
        "id": "JvZLyDs4W1-O",
        "outputId": "a257cd46-d80c-4081-c9e0-6068f43543c5"
      },
      "outputs": [
        {
          "name": "stderr",
          "output_type": "stream",
          "text": [
            "C:\\Users\\admin BASE\\Anaconda31\\lib\\site-packages\\sklearn\\neural_network\\multilayer_perceptron.py:566: ConvergenceWarning: Stochastic Optimizer: Maximum iterations (5000) reached and the optimization hasn't converged yet.\n",
            "  % self.max_iter, ConvergenceWarning)\n"
          ]
        },
        {
          "data": {
            "text/plain": [
              "MLPRegressor(activation='relu', alpha=0.0001, batch_size='auto', beta_1=0.9,\n",
              "             beta_2=0.999, early_stopping=False, epsilon=1e-08,\n",
              "             hidden_layer_sizes=(1, 2, 3, 4), learning_rate='constant',\n",
              "             learning_rate_init=0.001, max_iter=5000, momentum=0.9,\n",
              "             n_iter_no_change=10, nesterovs_momentum=True, power_t=0.5,\n",
              "             random_state=1, shuffle=True, solver='adam', tol=0.0001,\n",
              "             validation_fraction=0.1, verbose=False, warm_start=False)"
            ]
          },
          "execution_count": 152,
          "metadata": {},
          "output_type": "execute_result"
        }
      ],
      "source": [
        "nn_reg.fit(X_train, Y_train)"
      ]
    },
    {
      "cell_type": "code",
      "execution_count": null,
      "metadata": {
        "id": "7kAJD6jtW1-O",
        "outputId": "fb38198e-d068-4b51-c63a-411c55cb2ad4"
      },
      "outputs": [
        {
          "data": {
            "text/plain": [
              "[array([[-2.46748135e-82]]),\n",
              " array([[-1.71523909e-07,  1.46131600e-43]]),\n",
              " array([[-8.65560021e-029, -1.88642629e-073,  2.21195394e-092],\n",
              "        [ 2.15784365e-113,  1.09375252e-101, -2.03019062e-063]]),\n",
              " array([[-3.97685242e-077,  1.30562277e-105,  6.71294722e-111,\n",
              "          1.47874660e-031],\n",
              "        [ 1.32411439e-043,  8.57898750e-044,  7.73086722e+000,\n",
              "          3.33589565e-072],\n",
              "        [-1.41403195e-070,  8.39851129e-028,  5.30645740e-025,\n",
              "         -1.51132280e-022]]),\n",
              " array([[ 1.28744465e-101],\n",
              "        [ 1.01615079e-013],\n",
              "        [ 6.26645735e+000],\n",
              "        [-2.13108128e-061]])]"
            ]
          },
          "execution_count": 153,
          "metadata": {},
          "output_type": "execute_result"
        }
      ],
      "source": [
        "nn_reg.coefs_"
      ]
    },
    {
      "cell_type": "code",
      "execution_count": null,
      "metadata": {
        "id": "S6_mY7XrW1-O",
        "outputId": "ae18ffe9-f136-48a3-f6cb-c1ee347f672b"
      },
      "outputs": [
        {
          "data": {
            "text/plain": [
              "[array([0.76322643]),\n",
              " array([-0.99912522, -1.15304058]),\n",
              " array([-0.64751268,  7.68176845, -1.0354419 ]),\n",
              " array([-0.85350469, -0.61135527,  6.66320967, -0.74371715]),\n",
              " array([3.7353984])]"
            ]
          },
          "execution_count": 154,
          "metadata": {},
          "output_type": "execute_result"
        }
      ],
      "source": [
        "nn_reg.intercepts_"
      ]
    },
    {
      "cell_type": "code",
      "execution_count": null,
      "metadata": {
        "id": "_i3IrtlcW1-P"
      },
      "outputs": [],
      "source": [
        "y_hat=nn_reg.predict(X_test)"
      ]
    },
    {
      "cell_type": "code",
      "execution_count": null,
      "metadata": {
        "id": "jGag8IlJW1-P",
        "outputId": "9b10b970-2933-4429-d44c-d10c043e0b0a"
      },
      "outputs": [
        {
          "data": {
            "text/plain": [
              "15643.749610648465"
            ]
          },
          "execution_count": 156,
          "metadata": {},
          "output_type": "execute_result"
        }
      ],
      "source": [
        "from sklearn.metrics import mean_squared_error\n",
        "mse = mean_squared_error(Y_test,y_hat)\n",
        "mse"
      ]
    },
    {
      "cell_type": "code",
      "execution_count": null,
      "metadata": {
        "id": "CtbgrfZQW1-P",
        "outputId": "7b57c20c-9d05-4371-c50d-98f54405e87a"
      },
      "outputs": [
        {
          "data": {
            "text/plain": [
              "125.07497595701734"
            ]
          },
          "execution_count": 157,
          "metadata": {},
          "output_type": "execute_result"
        }
      ],
      "source": [
        "import math\n",
        "rmse=math.sqrt(mse)\n",
        "rmse"
      ]
    },
    {
      "cell_type": "code",
      "execution_count": null,
      "metadata": {
        "id": "yGNWrN4JW1-P"
      },
      "outputs": [],
      "source": []
    }
  ],
  "metadata": {
    "kernelspec": {
      "display_name": "Python 3",
      "language": "python",
      "name": "python3"
    },
    "language_info": {
      "codemirror_mode": {
        "name": "ipython",
        "version": 3
      },
      "file_extension": ".py",
      "mimetype": "text/x-python",
      "name": "python",
      "nbconvert_exporter": "python",
      "pygments_lexer": "ipython3",
      "version": "3.7.4"
    },
    "colab": {
      "provenance": []
    }
  },
  "nbformat": 4,
  "nbformat_minor": 0
}